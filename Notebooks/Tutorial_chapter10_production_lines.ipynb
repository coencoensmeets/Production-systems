{
 "cells": [
  {
   "cell_type": "markdown",
   "metadata": {},
   "source": [
    "**To use the examples in this chapter, first run the code below to import the right libraries.**"
   ]
  },
  {
   "cell_type": "code",
   "execution_count": null,
   "metadata": {},
   "outputs": [],
   "source": [
    "# =================================\n",
    "# Imports\n",
    "# =================================\n",
    "from PyCh import *\n",
    "from numpy import random\n",
    "from dataclasses import dataclass\n",
    "import math"
   ]
  },
  {
   "cell_type": "markdown",
   "metadata": {},
   "source": [
    "# 10 Production lines\n",
    "\n",
    "A production line contains machines and/or persons that perform a sequence of tasks, where each machine or person is responsible for a single task. The term *server* is used for a machine or a person that performs a task.\n",
    "Usually the execution of a task takes time, e.g. a drilling process, a welding process, the set-up of a machine. Timing is an important aspect of a model, as it allows answering questions about time, often performance questions ('how many products\n",
    "can I make in this situation?'). \n",
    "\n",
    "In this chapter we discuss how to model a production line with various types of servers.\n",
    "\n"
   ]
  },
  {
   "cell_type": "markdown",
   "metadata": {},
   "source": [
    "## 10.1 A simple production line\n",
    "The first case is a small production line with a deterministic server (its task takes a fixed amount of time), while the\n",
    "second case uses stochastic arrivals (the moment of arrival of new items varies), and a stochastic server instead (the duration of the task varies each time).\n",
    "\n",
    "In both cases, the question is what the flow time of an item is (the amount of time that a single item is in the system),\n",
    "and what the throughput of the entire system is (the number of items the production line can manufacture per time unit)."
   ]
  },
  {
   "cell_type": "markdown",
   "metadata": {},
   "source": [
    "### 10.1.1 A deterministic system\n",
    "The model of a deterministic system consists of a deterministic generator, a deterministic server, and an exit process.\n",
    "The production line is depicted in Figure 10.1.\n",
    "\n",
    "\n",
    "| Figure 10.1:  Generator `G`, server `S`, and exit `E`. |\n",
    "|-|\n",
    "<img src=\"figures/10-1.png\" width=75%>\n",
    "<a id='fig:10-1'></a>\n",
    "\n",
    "Generator process `G` sends items, with constant inter-arrival time `ta`, via channel `a`, to server process `S`.\n",
    "The server processes items with constant processing time `ts`, and sends items, via channel `b`, to exit process `E`.\n",
    "\n",
    "An item contains a real value, denoting the creation time of the item, for calculating the throughput of the system and flow\n",
    "time (or sojourn time) of an item in the system.\n",
    "The generator process creates an item (and sets its creation time), the exit process `E` writes the measurements (the\n",
    "moment in time when the item arrives in the exit process, and its creation time) to the output.\n",
    "From these measurements, throughput and flow time can be calculated.\n",
    "\n",
    "Model `M` describes the system:"
   ]
  },
  {
   "cell_type": "code",
   "execution_count": null,
   "metadata": {},
   "outputs": [],
   "source": [
    "def M(ta, ts, N):\n",
    "    env = Environment()\n",
    "    a = Channel(env)\n",
    "    b = Channel(env)\n",
    "    G = Generator(env, a, ta)\n",
    "    S = Server(env, a, b, ts)\n",
    "    E = Exit(env, b, N)\n",
    "    env.run(until=E)"
   ]
  },
  {
   "cell_type": "markdown",
   "metadata": {},
   "source": [
    "Parameter `ta` denotes the inter-arrival time, and is used in generator `G`.\n",
    "Parameter `ts` denotes the server processing time, and is used in server `S`.\n",
    "Parameter `N` denotes the number of items that must flow through the system to get a good measurement.\n",
    "\n",
    "Generator process definition `Generator` has two parameters, channel `c_out`, and inter-arrival time `ta`.\n",
    "The description of process `G` is given by:"
   ]
  },
  {
   "cell_type": "code",
   "execution_count": null,
   "metadata": {},
   "outputs": [],
   "source": [
    "@process\n",
    "def Generator(env, c_out, ta):\n",
    "    while True:\n",
    "        x = env.now\n",
    "        yield env.execute(c_out.send(x))\n",
    "        yield env.timeout(ta)"
   ]
  },
  {
   "cell_type": "markdown",
   "metadata": {},
   "source": [
    "Process `G` sends an item, with the current time, and delays for `ta`, before sending the next item to server process `S`.\n",
    "\n",
    "Server process definition `Server` has three parameters, receiving channel `c_in`, sending channel `c_out`, and server processing time `ts`:"
   ]
  },
  {
   "cell_type": "code",
   "execution_count": null,
   "metadata": {},
   "outputs": [],
   "source": [
    "@process\n",
    "def Server(env, c_in, c_out, ts):\n",
    "    while True:\n",
    "        x = yield env.execute(c_in.receive())\n",
    "        yield env.timeout(ts)\n",
    "        yield env.execute(c_out.send(x))"
   ]
  },
  {
   "cell_type": "markdown",
   "metadata": {},
   "source": [
    "The process receives an item from process `G`, processes the item during `ts` time units, and sends the item to exit process `E`. \n",
    "\n",
    "Exit process definition `Exit` has two parameters, receiving channel `c_in` and the length of the experiment `N`."
   ]
  },
  {
   "cell_type": "code",
   "execution_count": null,
   "metadata": {},
   "outputs": [],
   "source": [
    "@process\n",
    "def Exit(env, c_in, N):\n",
    "    for i in range(N):\n",
    "        x = yield env.execute(c_in.receive())\n",
    "        print(f\"The Exit process received an item at t = {env.now:.1f} with flow time {env.now-x:.1f}\")"
   ]
  },
  {
   "cell_type": "markdown",
   "metadata": {},
   "source": [
    "The process writes current time `env.now` and item flow time `env.now - x` to the screen for each received item.\n",
    "Analysis of the measurements will show that the system throughput equals $1/\\mathtt{ta}$, and that the item flow time\n",
    "equals `ts` (if `ta` $\\ge$ `ts`)."
   ]
  },
  {
   "cell_type": "code",
   "execution_count": null,
   "metadata": {},
   "outputs": [],
   "source": [
    "# Run the model\n",
    "M(3, 1, 10) "
   ]
  },
  {
   "cell_type": "markdown",
   "metadata": {},
   "source": [
    "### 10.1.2 A stochastic system\n",
    "In the next model, the generator produces items with an exponential inter-arrival time, and the server processes items\n",
    "with an exponential server processing time. To compensate for the variations in time of the generator and the server, a\n",
    "buffer process has been added. The model is depicted in Figure 10.2.\n",
    "\n",
    "| Figure 10.2:  Generator `G`, Buffer `B`, server `S`, and exit `E`. |\n",
    "|-|\n",
    "<img src=\"figures/10-2.png\" width=500>\n",
    "<a id='fig:10-2'></a>\n",
    "\n",
    "The model for the stochastic system runs the additional buffer process:"
   ]
  },
  {
   "cell_type": "code",
   "execution_count": null,
   "metadata": {},
   "outputs": [],
   "source": [
    "def StochasticSystemModel(ta, ts, N):\n",
    "    env = Environment()\n",
    "    a = Channel(env)\n",
    "    b = Channel(env)\n",
    "    c = Channel(env)\n",
    "    G = Generator(env, a, ta)\n",
    "    B = Buffer(env, a, b)\n",
    "    S = Server(env, b, c, ts)\n",
    "    E = Exit(env, c, N)\n",
    "    env.run(until=E)"
   ]
  },
  {
   "cell_type": "markdown",
   "metadata": {},
   "source": [
    "Generator `G` has two parameters, channel variable `a`, and variable `ta`, denoting the mean inter-arrival time.\n",
    "An `exponential` distribution is used for deciding the inter-arrival time of new items, which we sample from using `u = lambda: random.exponential(ta)`. The process sends a new item to the buffer, and then is delayed for a sample of `delay = u()` time units until the next arrival."
   ]
  },
  {
   "cell_type": "code",
   "execution_count": null,
   "metadata": {},
   "outputs": [],
   "source": [
    "@process\n",
    "def Generator(env, c_out, ta):\n",
    "    u = lambda: random.exponential(ta)\n",
    "    while True:\n",
    "        x = env.now\n",
    "        yield env.execute(c_out.send(x))\n",
    "        delay = u()\n",
    "        yield env.timeout(delay)"
   ]
  },
  {
   "cell_type": "markdown",
   "metadata": {},
   "source": [
    "Buffer process `B` is a fifo buffer with infinite capacity, as described in chapter 9."
   ]
  },
  {
   "cell_type": "code",
   "execution_count": null,
   "metadata": {},
   "outputs": [],
   "source": [
    "@process\n",
    "def Buffer(env, c_in, c_out):\n",
    "    xs = []\n",
    "    while True:\n",
    "        sending = c_out.send(xs[0]) if len(xs)>0 else None\n",
    "        receiving = c_in.receive()\n",
    "        x = yield env.select(sending, receiving)\n",
    "        if selected(receiving):\n",
    "            xs = xs + [x]\n",
    "        if selected(sending):\n",
    "            xs = xs[1:]"
   ]
  },
  {
   "cell_type": "markdown",
   "metadata": {},
   "source": [
    "Server `S` has three parameters, channel variables `a` and `b`, for receiving and sending items, and a variable\n",
    "for the average processing time `ts`. An `exponential` distribution is used for deciding the processing time.\n",
    "The process receives an item from process `B`, processes the item with the sampled processing time, and sends the item to exit process `E`."
   ]
  },
  {
   "cell_type": "code",
   "execution_count": null,
   "metadata": {},
   "outputs": [],
   "source": [
    "@process\n",
    "def Server(env, c_in, c_out, ts):\n",
    "    u = lambda: random.exponential(ts)\n",
    "    while True:\n",
    "        x = yield env.execute(c_in.receive())\n",
    "        delay = u()\n",
    "        yield env.timeout(delay)\n",
    "        yield env.execute(c_out.send(x))"
   ]
  },
  {
   "cell_type": "markdown",
   "metadata": {},
   "source": [
    "Exit process `E` is the same as in the previous case. In this case the throughput of the system also equals $1 / \\mathtt{ta}$, and the *mean flow* can be obtained by doing an experiment and analysis of the resulting measurements (for `ta` $>$ `ts`)."
   ]
  },
  {
   "cell_type": "code",
   "execution_count": null,
   "metadata": {},
   "outputs": [],
   "source": [
    "# Run the model\n",
    "StochasticSystemModel(3, 1, 10)"
   ]
  },
  {
   "cell_type": "markdown",
   "metadata": {},
   "source": [
    "## 10.2 Parallel and serial processing"
   ]
  },
  {
   "cell_type": "markdown",
   "metadata": {},
   "source": [
    "In this section two different types of systems are shown: a serial and a parallel system. In a serial system the servers are positioned after each other, in a parallel system the servers are operating in parallel.\n",
    "Both systems use a stochastic generator, and stochastic servers."
   ]
  },
  {
   "cell_type": "markdown",
   "metadata": {},
   "source": [
    "### 10.2.1 Serial system\n",
    "\n",
    "The next model describes a *serial* system, where an item is processed by one server, followed by another server.\n",
    "The generator and the servers are decoupled by buffers.\n",
    "The model is depicted in Figure 10.3.\n",
    "\n",
    "| Figure 10.3: A generator, two buffers, two servers, and an exit. |\n",
    "|-|\n",
    "<img src=\"figures/10-3.png\" width=800>\n",
    "<a id='fig:10-3'></a>\n",
    "\n",
    "\n",
    "The model can be described by:"
   ]
  },
  {
   "cell_type": "code",
   "execution_count": null,
   "metadata": {},
   "outputs": [],
   "source": [
    "def SerialSystemModel(ta, ts, N):\n",
    "    env = Environment()\n",
    "    a = Channel(env)\n",
    "    b = Channel(env)\n",
    "    c = Channel(env)\n",
    "    d = Channel(env)\n",
    "    e = Channel(env)\n",
    "    G = Generator(env, a, ta)\n",
    "    B1 = Buffer(env, a, b)\n",
    "    S1 = Server(env, b, c, ts)\n",
    "    B2 = Buffer(env, c, d)\n",
    "    S2 = Server(env, d, e, ts)\n",
    "    E = Exit(env, e, N)\n",
    "    env.run(until=E)"
   ]
  },
  {
   "cell_type": "markdown",
   "metadata": {},
   "source": [
    "The various processes are equal to those described in the example of the stochastic system model."
   ]
  },
  {
   "cell_type": "code",
   "execution_count": null,
   "metadata": {},
   "outputs": [],
   "source": [
    "# Run the model\n",
    "SerialSystemModel(3, 1, 10)"
   ]
  },
  {
   "cell_type": "markdown",
   "metadata": {},
   "source": [
    "### 10.2.2 Parallel system\n",
    "\n",
    "In a parallel system the servers are operating in parallel. Having several servers in parallel is useful for enlarging\n",
    "the processing capacity of the task being done, or for reducing the effect of break downs of servers (when a server\n",
    "breaks down, the other server continues with the task for other items).\n",
    "Figure 10.4 depicts the system.\n",
    "\n",
    "| Figure 10.4:  A model with two parallel servers. |\n",
    "|-|\n",
    "<img src=\"figures/10-4.png\" width=500>\n",
    "<a id='fig:10-4'></a>\n",
    "\n",
    "Generator process `G` sends items via `a` to buffer process `B`, and process `B` sends the items in a\n",
    "first-in first-out manner to the servers `S1` and `S2`. Both servers send the processed items to the exit process\n",
    "`E` via channel `c`. The inter-arrival time and the two process times are assumed to be stochastic, and exponentially distributed. Items can pass each other, due to differences in processing time between the two servers.\n",
    "\n",
    "If a server is free, and the buffer is not empty, an item is sent to a server.\n",
    "If both servers are free, one server will get the item, but which one cannot be determined beforehand. (How long a\n",
    "server has been idle is not taken into account.)\n",
    "The model is described by:\n"
   ]
  },
  {
   "cell_type": "code",
   "execution_count": null,
   "metadata": {},
   "outputs": [],
   "source": [
    "def ParallelSystemModel(ta, ts, N):\n",
    "    env = Environment()\n",
    "    a = Channel(env)\n",
    "    b = Channel(env)\n",
    "    c = Channel(env)\n",
    "    G = Generator(env, a, ta)\n",
    "    B = Buffer(env, a, b)\n",
    "    S1 = Server(env, b, c, ts)\n",
    "    S2 = Server(env, b, c, ts)\n",
    "    E = Exit(env, c, N)\n",
    "    env.run(until=E)"
   ]
  },
  {
   "cell_type": "code",
   "execution_count": null,
   "metadata": {},
   "outputs": [],
   "source": [
    "# Run the model\n",
    "ParallelSystemModel(3, 1, 10)"
   ]
  },
  {
   "cell_type": "markdown",
   "metadata": {},
   "source": [
    "### 10.2.3 Parallel system with requests\n",
    "To control which server gets the next item, each server must have its own channel from the buffer. In addition, the\n",
    "buffer has to know when the server can receive a new item.\n",
    "The latter is done with a 'request' channel, denoting that a server is free and needs a new item.\n",
    "The server sends its own identity as request, the requests are administrated in the buffer.\n",
    "The model is depicted in Figure 10.5.\n",
    "\n",
    "| Figure 10.5:  A model with two parallel requesting servers. |\n",
    "|-|\n",
    "<img src=\"figures/10-5.png\" width=500>\n",
    "<a id='fig:10-5'></a>\n",
    "\n",
    "In this model, the servers 'pull' an item through the line.\n",
    "The model is shown below. In this model, *list comprehension* is used for the initialization and running of the two servers.\n",
    "Via channel `r` an integer value, `0` or `1`, is sent to the buffer.\n"
   ]
  },
  {
   "cell_type": "code",
   "execution_count": null,
   "metadata": {},
   "outputs": [],
   "source": [
    "def RequestingParallelSystemModel(ta, ts, N):\n",
    "    env = Environment()\n",
    "    a = Channel(env)\n",
    "    b = [Channel(env) for i in range(2)]\n",
    "    c = Channel(env)\n",
    "    r = Channel(env)\n",
    "    G = Generator(env, a, ta)\n",
    "    B = BufferRequesting(env, a, b, r)\n",
    "    Ss = [ServerRequesting(env, b[j], c, r, ts, j) for j in range(2)]\n",
    "    E = Exit(env, c, N)\n",
    "    env.run(until=E)"
   ]
  },
  {
   "cell_type": "markdown",
   "metadata": {},
   "source": [
    "The items received from generator `G` are stored in the buffer in list `xs`, the requests received from the servers are stored in list `ys`.\n",
    "The items and requests are removed form their respective lists in a first-in first-out manner. Process `B` is defined below.\n",
    "\n",
    "\n",
    "\n",
    "If, there is an item present, *and*  there is a server demanding for an item, the process sends the first item to the longest waiting server.\n",
    "The longest waiting server is denoted by variable `ys[0]`.\n",
    "The head of the item list is denoted by `xs[0]`.\n",
    "Assume the value of `ys[0]` equals `1`, then the expression `c_out[ys[0]].send(xs[0])` equals `c_out[1].send(xs[0])`, indicates that the first item of list `xs`, equals `xs[0]`, is sent to server `1`."
   ]
  },
  {
   "cell_type": "code",
   "execution_count": null,
   "metadata": {},
   "outputs": [],
   "source": [
    "@process\n",
    "def BufferRequesting(env, c_in, c_out, c_r):\n",
    "    xs = []\n",
    "    ys = []\n",
    "    while True:\n",
    "        sending = c_out[ys[0]].send(xs[0]) if (len(xs)>0 and len(ys)>0) else None\n",
    "        receiving = c_in.receive()\n",
    "        request = c_r.receive()\n",
    "        z = yield env.select(receiving, request, sending)\n",
    "        if selected(receiving):\n",
    "            xs = xs + [z]\n",
    "        if selected(request):\n",
    "            ys = ys + [z]\n",
    "        if selected(sending):\n",
    "            xs = xs[1:]\n",
    "            ys = ys[1:]"
   ]
  },
  {
   "cell_type": "markdown",
   "metadata": {},
   "source": [
    "The server first sends a request via channel `r` to the buffer, and waits for an item.\n",
    "The item is processed, and sent to exit process `E`."
   ]
  },
  {
   "cell_type": "code",
   "execution_count": null,
   "metadata": {},
   "outputs": [],
   "source": [
    "@process\n",
    "def ServerRequesting(env, c_in, c_out, c_r, ts, k):\n",
    "    u = lambda: random.exponential(ts)\n",
    "    while True:\n",
    "        yield env.execute(c_r.send(k))\n",
    "        x = yield env.execute(c_in.receive())\n",
    "        delay = u()\n",
    "        yield env.timeout(delay)\n",
    "        yield env.execute(c_out.send(x))"
   ]
  },
  {
   "cell_type": "markdown",
   "metadata": {},
   "source": [
    "Again the exit process `E` remains unchanged. So we can now run the model to see the results."
   ]
  },
  {
   "cell_type": "code",
   "execution_count": null,
   "metadata": {},
   "outputs": [],
   "source": [
    "# Run the model\n",
    "RequestingParallelSystemModel(3, 1, 10)"
   ]
  },
  {
   "cell_type": "markdown",
   "metadata": {},
   "source": [
    "### 10.3 Assembly\n",
    "\n",
    "In assembly systems, components are assembled into bigger components.\n",
    "These bigger components are assembled into even bigger components.\n",
    "In this way, products are built, e.g. tables, chairs, computers, or cars.\n",
    "In this section some simple assembly processes are described.\n",
    "These systems illustrate how assembling can be performed: in industry these assembly processes are often more complicated.\n",
    "\n",
    "An assembly work station for two components is shown in Figure 10.6.\n",
    "\n",
    "| Figure 10.6:  Assembly for two components. |\n",
    "|-|\n",
    "<img src=\"figures/10-6.png\" width=500>\n",
    "<a id='fig:10-6'></a>\n",
    "\n",
    "We first create the model for a system with assembly. Both buffers are preceded by a generator. The server is succeeded by a single exit. The model is as follows:"
   ]
  },
  {
   "cell_type": "code",
   "execution_count": null,
   "metadata": {},
   "outputs": [],
   "source": [
    "def Assemble2PartsSystemModel(ta, ts, N):\n",
    "    env = Environment()\n",
    "    a = [Channel(env) for j in range(2)]\n",
    "    c = [Channel(env) for j in range(2)]\n",
    "    b = Channel(env)\n",
    "    Gs = [Generator(env, a[j], ta) for j in range(2)]\n",
    "    Bs = [Buffer(env, a[j], c[j]) for j in range(2)]\n",
    "    S = ServerAssembly(env, c, b)\n",
    "    E = Exit(env, b, N)\n",
    "    env.run(until=E)"
   ]
  },
  {
   "cell_type": "markdown",
   "metadata": {},
   "source": [
    "The assembly process server `S` is preceded by buffers. The server receives an item from each buffer `B`, before starting\n",
    "assembly. The received items are assembled into one new item, a list of its (sub-)items.\n",
    "The description of the assembly server is shown below.\n",
    "\n",
    "The process takes a list of channels `c` (which corresponds to `c_in` in the process definition below) to receive items from the preceding buffers.\n",
    "The output channel `b` (which corresponds to `c_out` in the process definition below) is used to send the assembled component away to the next process.\n",
    "\n",
    "First, the assembly process receives an item from both buffers. All buffers are queried at the same time, since it is unknown which buffer has components available. If the first buffer reacts first, and sends an item, it is received with channel `c[0]` and stored in `v[0]` in the first alternative. The next step is then to receive the second component from the second buffer, and store it (`v[1] = yield env.execute(c_in[1].receive())`). The second alternative does the same, but with the channels and stored items swapped. When both components have been received, the assembled product is sent away."
   ]
  },
  {
   "cell_type": "code",
   "execution_count": null,
   "metadata": {},
   "outputs": [],
   "source": [
    "@process\n",
    "def ServerAssembly(env, c_in, c_out):\n",
    "    v = [None, None]\n",
    "    while True:\n",
    "        receive_part1 = c_in[0].receive()\n",
    "        receive_part2 = c_in[1].receive()\n",
    "        x = yield env.select(receive_part1, receive_part2) \n",
    "        \n",
    "        if selected(receive_part1):\n",
    "            v[0] = x\n",
    "            v[1] = yield env.execute(c_in[1].receive())\n",
    "            \n",
    "        if selected(receive_part2):\n",
    "            v[1] = x\n",
    "            v[0] = yield env.execute(c_in[0].receive())\n",
    "              \n",
    "        yield env.execute(c_out.send(v))"
   ]
  },
  {
   "cell_type": "markdown",
   "metadata": {},
   "source": [
    "We make a slight alteration to the exit model to show that the parts have indeed been assembled."
   ]
  },
  {
   "cell_type": "code",
   "execution_count": null,
   "metadata": {},
   "outputs": [],
   "source": [
    "@process\n",
    "def Exit(env, c_in, N):\n",
    "    for i in range(N):\n",
    "        x = yield env.execute(c_in.receive())\n",
    "        print(f\"The Exit process received an item at t = {env.now:.1f} consisting of {len(x)} parts.\")"
   ]
  },
  {
   "cell_type": "markdown",
   "metadata": {},
   "source": [
    "Now we can run this model with `ta=3`, `ts=1`, and `N=10`."
   ]
  },
  {
   "cell_type": "code",
   "execution_count": null,
   "metadata": {},
   "outputs": [],
   "source": [
    "# Run the model\n",
    "Assemble2PartsSystemModel(3, 1, 10)"
   ]
  },
  {
   "cell_type": "markdown",
   "metadata": {},
   "source": [
    "### 10.3.1\n",
    "\n",
    "A generalized assembly work station for `n` components is depicted in Figure 10.2.\n",
    "\n",
    "| Figure 10.7:  Assembly for `n` components, with `m=n-1`. |\n",
    "|-|\n",
    "<img src=\"figures/10-7.png\" width=500>\n",
    "<a id='fig:10-7'></a>\n",
    "\n",
    "Again, we first create the systen model. We substitute the buffers and servers with workstation submodel `W`, which is preceded by `n` generators. The workstation is succeeded by a single exit. The model is as follows:"
   ]
  },
  {
   "cell_type": "code",
   "execution_count": null,
   "metadata": {},
   "outputs": [],
   "source": [
    "def AssembleMPartsSystemModel(ta, ts, N, n):\n",
    "    env = Environment()\n",
    "    a = [Channel(env) for j in range(n)]\n",
    "    c = [Channel(env) for j in range(n)]\n",
    "    b = Channel(env)\n",
    "    Gs = [Generator(env, a[j], ta) for j in range(n)]\n",
    "    W = WorkstationAssembly(env, a, b)\n",
    "    E = Exit(env, b, N)\n",
    "    env.run(until=E)"
   ]
  },
  {
   "cell_type": "markdown",
   "metadata": {},
   "source": [
    "The entire work station submodel (the combined buffer processes and the assembly server process) is shown below.\n",
    "\n",
    "The size of the list of channels `c_in` is determined during initialization of the workstation.\n",
    "This size is used for the generation of the process buffers, and the accompanying channels. "
   ]
  },
  {
   "cell_type": "code",
   "execution_count": null,
   "metadata": {},
   "outputs": [],
   "source": [
    "def WorkstationAssembly(env, c_in, c_out):\n",
    "    n = len(c_in)\n",
    "    c_toS = [Channel(env) for j in range(n)]\n",
    "    Bs = [Buffer(env, c_in[i], c_toS[i]) for i in range(n)]\n",
    "    Ss = ServerAssemblyMParts(env, c_toS, c_out)"
   ]
  },
  {
   "cell_type": "markdown",
   "metadata": {},
   "source": [
    "The assembly server process works in the same way as before, except for a generic `n` components, it is impossible to write a select statement explicitly. Instead, the list of communication events `receive_parts` is defined using *list comprehension*, which combined with `env.select(*receive_parts)` is used to unfold the alternatives.\n",
    "\n",
    "The received components are again in `v`. Item `v[i]` is received from channel `c[i]`. The indices of the channels that have not provided an item are in the list `rec`. Initially, it contains all channels `0`$\\ldots$`n`, that is, `rec = list(range(n))`. While `rec` still has a channel index to monitor, the `[c_in[i].receive() if (i in rec) else None for i in range(n)]` contains all possible communication events that are required to finalize the assembly process. For example, if `rec` contains `[0, 1, 4]` for `n=5`, then `receive_parts =[c_in[i].receive() if (i in rec) else None for i in range(n)]` is equivalent to:\n",
    "\n",
    "    receive_parts = [c_in[0].receive(), c_in[1].receive(), None, None, c_in[4].receive()]\n",
    "                     .\n",
    "Which means that `yield env.select(*receive_parts)` will try to receive an item over either channels `c_in[0]`, `c_in[1]` or `c_in[4]`. \n",
    "\n",
    "After receiving an item, the index of the channel is removed from `rec` to prevent receiving a second item from the same channel. When all items have been received, the assembled component is sent away with `yield env.execute(c_out.send(v))`."
   ]
  },
  {
   "cell_type": "code",
   "execution_count": null,
   "metadata": {},
   "outputs": [],
   "source": [
    "@process\n",
    "def ServerAssemblyMParts(env, c_in, c_out):\n",
    "    n = len(c_in)\n",
    "    v = [None]*n\n",
    "    while True:\n",
    "        rec = list(range(n))\n",
    "        while len(rec)>0:\n",
    "            receive_parts = [c_in[i].receive() if (i in rec) else None for i in range(n)]\n",
    "            x = yield env.select(*receive_parts)\n",
    "            for j in range(n):\n",
    "                if selected(receive_parts[j]):\n",
    "                    v[j] = x\n",
    "                    rec.remove(j)\n",
    "        yield env.execute(c_out.send(v))"
   ]
  },
  {
   "cell_type": "markdown",
   "metadata": {},
   "source": [
    "The exit model remains the same as in the previous assembly system model.\n",
    "\n",
    "In practical situations these assembly processes are performed in a more cascading manner:\n",
    "two or three components are 'glued' together in one assemble process, followed in the next process by another assembly process."
   ]
  },
  {
   "cell_type": "code",
   "execution_count": null,
   "metadata": {},
   "outputs": [],
   "source": [
    "# Run the model\n",
    "AssembleMPartsSystemModel(3, 1, 10, 4)"
   ]
  },
  {
   "cell_type": "markdown",
   "metadata": {},
   "source": [
    "## 10.4 Exercises"
   ]
  },
  {
   "cell_type": "markdown",
   "metadata": {},
   "source": [
    "### 10.4.1\n",
    "Predict the resulting throughput and flow time for a deterministic case like in Section 10.1.1, with `ta = 4` and\n",
    "    `ts = 5`. Verify the prediction with an experiment, and explain the result."
   ]
  },
  {
   "cell_type": "markdown",
   "metadata": {},
   "source": [
    "### 10.4.2 \n",
    "Extend the model of Exercise 1 in Section 9.5 with a single deterministic server taking `4.0` time units to model the production capacity of the factory. Increase the number of products inserted by the generator, and measure the average flow time for\n",
    "   1. A FIFO buffer with control policy `low = 0` and `high = 1`.\n",
    "   2. A FIFO buffer with control policy `low = 1` and `high = 4`.\n",
    "   3. A LIFO buffer with control policy `low = 1` and `high = 4`."
   ]
  },
  {
   "cell_type": "code",
   "execution_count": null,
   "metadata": {},
   "outputs": [],
   "source": [
    "@dataclass\n",
    "class Product:\n",
    "    id: int\n",
    "    entrytime: float\n",
    "                \n",
    "@process\n",
    "def Generator(env, c_out, c_signal, N):\n",
    "    for i in range(N):\n",
    "        yield env.execute(c_signal.receive())\n",
    "        x = Product(id = i, entrytime = env.now)\n",
    "        yield env.execute(c_out.send(x))\n",
    "        \n",
    "@process\n",
    "def Exit(env, c_in, c_signal):\n",
    "    mean_flowtime = 0.0\n",
    "    i = 1\n",
    "    while True:\n",
    "        yield env.execute(c_signal.receive())\n",
    "        x = yield env.execute(c_in.receive())\n",
    "        flowtime = env.now - x.entrytime\n",
    "        mean_flowtime = (i - 1) / i * mean_flowtime  +  flowtime / i\n",
    "        print(f\"The Exit process received {x.id}, with flowtime {flowtime:.2f}. The mean flowtime is {mean_flowtime:.2f}.\")\n",
    "        i = i+1\n",
    "        \n",
    "@process\n",
    "def Controller(env, c_signal_gen, c_signal_exit, low, high):\n",
    "    count = 0\n",
    "    while True:\n",
    "        while count < high:\n",
    "            yield env.execute(c_signal_gen.send())\n",
    "            count = count+1\n",
    "        while count > low:\n",
    "            yield env.execute(c_signal_exit.send()) \n",
    "            count = count-1\n",
    "    \n",
    "def model(low, high, N):\n",
    "    env = Environment()\n",
    "    sg = Channel(env)\n",
    "    se = Channel(env)\n",
    "    gf = Channel(env)\n",
    "    fe = Channel(env)\n",
    "    G = Generator(env, gf, sg, N)\n",
    "    F = Factory(env, gf, fe)\n",
    "    E = Exit(env, fe, se)\n",
    "    C = Controller(env, sg, se, low, high)\n",
    "    env.run()"
   ]
  },
  {
   "cell_type": "markdown",
   "metadata": {},
   "source": [
    "---\n",
    "**A.**"
   ]
  },
  {
   "cell_type": "code",
   "execution_count": null,
   "metadata": {},
   "outputs": [],
   "source": [
    "# The factory is a submodel which contains both a FIFO buffer and a server\n",
    "def Factory(env, c_in, c_out):\n",
    "    ..."
   ]
  },
  {
   "cell_type": "code",
   "execution_count": null,
   "metadata": {},
   "outputs": [],
   "source": [
    "model(low=0, high=1, N=..)"
   ]
  },
  {
   "cell_type": "markdown",
   "metadata": {},
   "source": [
    "---\n",
    "**B.**"
   ]
  },
  {
   "cell_type": "code",
   "execution_count": null,
   "metadata": {},
   "outputs": [],
   "source": [
    "# 2b\n",
    "model(low=1, high=4, N=..)"
   ]
  },
  {
   "cell_type": "markdown",
   "metadata": {},
   "source": [
    "---\n",
    "**C.**"
   ]
  },
  {
   "cell_type": "code",
   "execution_count": null,
   "metadata": {},
   "outputs": [],
   "source": [
    "# 2c: The factory is a submodel which contains both a LIFO buffer and a server\n",
    "def Factory(env, c_in, c_out):\n",
    "    ..."
   ]
  },
  {
   "cell_type": "code",
   "execution_count": null,
   "metadata": {},
   "outputs": [],
   "source": [
    "# 2c\n",
    "model(low=1, high=4, N=..)"
   ]
  },
  {
   "cell_type": "markdown",
   "metadata": {},
   "source": [
    "## 10.5 Answers to exercises"
   ]
  },
  {
   "cell_type": "markdown",
   "metadata": {},
   "source": [
    "### Answer to 10.4.1\n",
    "\n",
    "<details>\n",
    "    <summary>[Click for the answer to 10.4.1]</summary>\n",
    "   \n",
    "In this model the generator will try to send items every 4 time units. However, the server needs 5 time units to process an item, and there is no buffer between the generator and server, so the actual interarrivaltime will be 5 time units. The predicted throughput is 1/5. The flow time of all items is 5 time units. Simulation of this model confirms these predictions.\n",
    "\n",
    "</details>\n",
    "\n",
    "\n"
   ]
  },
  {
   "cell_type": "markdown",
   "metadata": {},
   "source": [
    "### Answer to 10.4.2\n"
   ]
  },
  {
   "cell_type": "markdown",
   "metadata": {},
   "source": [
    "<details>\n",
    "    <summary>[Click for the answer to 10.4.2]</summary>\n",
    "    \n",
    "**A.** The factory can be modelled as following. The resulting mean flowtime is 8. The model is:\n",
    "\n",
    "```python\n",
    "def Factory(env, c_in, c_out):\n",
    "    c_BtoS = Channel(env)\n",
    "    B = Buffer(env, c_in, c_BtoS)\n",
    "    S = Server(env, c_BtoS, c_out)\n",
    "\n",
    "@process\n",
    "def Buffer(env, c_in, c_out):\n",
    "    xs = []\n",
    "    while True:\n",
    "        sending = c_out.send(xs[0]) if len(xs)>0 else None\n",
    "        receiving = c_in.receive()\n",
    "        x = yield env.select(sending, receiving)\n",
    "        if selected(receiving):\n",
    "            xs = xs + [x]\n",
    "        if selected(sending):\n",
    "            xs = xs[1:]\n",
    "\n",
    "@process\n",
    "def Server(env, c_in, c_out):\n",
    "    while True:\n",
    "        x = yield env.execute(c_in.receive())\n",
    "        yield env.timeout(4.0)\n",
    "        yield env.execute(c_out.send(x))   \n",
    "```\n",
    "\n",
    "The model is ran with:\n",
    "```python\n",
    "model(low=0, high=1, N=10000)\n",
    "```\n",
    "---\n",
    "**B.** The resulting mean flowtime becomes 16. The model is ran with:\n",
    "```python\n",
    "model(1, 4, 10000)\n",
    "```\n",
    "---\n",
    "**C.** The factory is modelled the following way. The resulting mean flowtime is 12.\n",
    "```python\n",
    "def Factory(env, c_in, c_out):\n",
    "    c_BtoS = Channel(env)\n",
    "    B = Buffer(env, c_in, c_BtoS)\n",
    "    S = Server(env, c_BtoS, c_out)\n",
    "\n",
    "@process\n",
    "def Buffer(env, c_in, c_out):\n",
    "    xs = []\n",
    "    while True:\n",
    "        sending = c_out.send(xs[0]) if len(xs)>0 else None\n",
    "        receiving = c_in.receive()\n",
    "        x = yield env.select(sending, receiving)\n",
    "        if selected(receiving):\n",
    "            xs = [x] + xs \n",
    "        if selected(sending):\n",
    "            xs = xs[1:]\n",
    "\n",
    "@process\n",
    "def Server(env, c_in, c_out):\n",
    "    while True:\n",
    "        x = yield env.execute(c_in.receive())\n",
    "        yield env.timeout(4.0)\n",
    "        yield env.execute(c_out.send(x))\n",
    "```\n",
    "The model is ran with:\n",
    "```python\n",
    "    model(1, 4, 10000)\n",
    "```\n",
    "\n",
    "</details>"
   ]
  }
 ],
 "metadata": {
  "kernelspec": {
   "display_name": "Python (pychEnv)",
   "language": "python",
   "name": "pychenv"
  },
  "language_info": {
   "codemirror_mode": {
    "name": "ipython",
    "version": 3
   },
   "file_extension": ".py",
   "mimetype": "text/x-python",
   "name": "python",
   "nbconvert_exporter": "python",
   "pygments_lexer": "ipython3",
   "version": "3.7.1"
  }
 },
 "nbformat": 4,
 "nbformat_minor": 2
}
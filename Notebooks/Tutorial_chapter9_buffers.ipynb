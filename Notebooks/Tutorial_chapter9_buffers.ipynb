{
 "cells": [
  {
   "cell_type": "markdown",
   "metadata": {},
   "source": [
    "**To use the examples in this chapter, first run the code below to import the right libraries.**"
   ]
  },
  {
   "cell_type": "code",
   "execution_count": null,
   "metadata": {},
   "outputs": [],
   "source": [
    "# =================================\n",
    "# Imports\n",
    "# =================================\n",
    "from PyCh import *\n",
    "from numpy import random\n",
    "from dataclasses import dataclass\n",
    "import math"
   ]
  },
  {
   "cell_type": "markdown",
   "metadata": {},
   "source": [
    "# 9 Buffers\n",
    "In the previous chapter we introduced channels. Using channels, entities can be transfered from one process to the next, in a synchronous manner (Sender and receiver perform the communication at exactly the same moment in time, and the communication is instantaneous). In many systems however, processes do not use synchronous communication, they use asynchronous communication instead. Entities (products, packets, messages, simple tokens, and so on) are sent, temporarily stored in a *buffer*, and then received.\n",
    "\n",
    "In fact, the decoupling of sending and receiving is very important, it allows compensating temporarily differences between the number of items that are sent and received (Under the assumption that the receiver is fast enough to keep up with the sender in general, otherwise the buffer will grow forever or overflow).\n",
    "\n",
    "For example, consider the exchange of items from a producer process `P` to a consumer process `C` as shown in the figure below. In the unbuffered situation, both processes communicate at the same time.\n",
    "This means that when one process is (temporarily) faster than the other, it has to wait for the other process before communication can take place.\n",
    "\n",
    "| Figure 9.1: A producer and a consumer |\n",
    "-\n",
    "<img src=\"figures/8-1.png\" width=75%>\n",
    "<a id='fig:9-1'></a>\n",
    "\n",
    "As shown in the example below, when the consumer needs more time to process entities than the producer, then the producer will have to wait for the consumer."
   ]
  },
  {
   "cell_type": "code",
   "execution_count": null,
   "metadata": {
    "pycharm": {
     "name": "#%%\n"
    }
   },
   "outputs": [],
   "source": [
    "@process\n",
    "def producer(env, c_out):\n",
    "    total_t_waiting = 0\n",
    "    for i in range(5):\n",
    "        t_ready = env.now\n",
    "        yield env.execute(c_out.send(i))\n",
    "        t_waiting = env.now - t_ready\n",
    "        total_t_waiting = total_t_waiting + t_waiting\n",
    "        print(f\"The producer has sent entity {i} at t = {env.now:.2f}, \"\n",
    "              f\"and had to wait {t_waiting} seconds. Total waiting time so far is {total_t_waiting} seconds.\")\n",
    "        yield env.timeout(1)\n",
    "\n",
    "@process\n",
    "def consumer(env, c_in):\n",
    "    while True:\n",
    "        i = yield env.execute(c_in.receive())\n",
    "        yield env.timeout(3)\n",
    "\n",
    "def model():\n",
    "    env = Environment()\n",
    "    a = Channel(env)\n",
    "    P = producer(env, a)\n",
    "    C = consumer(env, a)\n",
    "    env.run()\n",
    "\n",
    "model()"
   ]
  },
  {
   "cell_type": "markdown",
   "metadata": {
    "pycharm": {
     "name": "#%% md\n"
    }
   },
   "source": [
    "With a buffer in-between, the producer can give its item to the buffer, and continue with its work. Likewise, the consumer can pick up a new item from the buffer at any later time (if the buffer has items). In this simulation tool, buffers are not modeled as channels, they are modeled as additional processes instead. The result is shown in Figure 9.2 below.\n",
    "\n",
    "| Figure 9.2: A producer and a consumer, with an additional buffer process. |\n",
    "-\n",
    "<img src=\"figures/9-2.png\" width=75%>\n",
    "<a id='fig:9-2'></a>\n",
    "\n",
    "The producer sends its items synchronously (using channel `a`) to the buffer process. The buffer process keeps the item until it is needed. The consumer gets an item synchronously (using channel `b`) from the buffer when it needs a new item (and one is available).\n",
    "\n",
    "In manufacturing networks, buffers, in combination with servers, play a prominent role, for buffering items in the network. Various buffer types exist in these networks: buffers can have a finite or infinite capacity, they have an input/output discipline, for example a first-out queuing discipline or a priority-based discipline. Buffers can store different kinds of items, for example, product-items, information-items, or a combination of both. Buffers may also have sorting facilities, etc.\n",
    "\n",
    "In this chapter some buffer types are described, and with the presented concepts numerous types of buffer can be designed by the engineer. First a simple buffer process with one buffer position is presented, followed by more advanced buffer models.\n",
    "The producer and consumer processes are not discussed in this chapter."
   ]
  },
  {
   "cell_type": "markdown",
   "metadata": {},
   "source": [
    "## 9.1 A one-place buffer\n",
    "A buffer usually has a receiving channel and a sending channel, for receiving and sending items. A buffer, buffer `B1`, is presented in Figure 9.3.\n",
    "\n",
    "| Figure 9.3: A 1-place buffer. |\n",
    "-\n",
    "<img src=\"figures/9-3.png\" width=75%>\n",
    "<a id='fig:9-3'></a>\n",
    "\n",
    "The simplest buffer is a one-place buffer, for buffering precisely one item. A one-place buffer is shown below.  `c_in` and `c_out` are the receiving and sending channels. Entity `i` is buffered in the process. A buffer receives an item, stores the item, and sends the item to the next process, if the next process is willing to receive the item. The buffer is not willing to receive a second item, as long as the first item is still in the buffer. "
   ]
  },
  {
   "cell_type": "code",
   "execution_count": null,
   "metadata": {
    "pycharm": {
     "name": "#%%\n"
    }
   },
   "outputs": [],
   "source": [
    "@process\n",
    "def buffer(env, c_in, c_out):\n",
    "    while True:\n",
    "        i = yield env.execute(c_in.receive())\n",
    "        yield env.execute(c_out.send(i))\n",
    "\n",
    "def model():\n",
    "    env = Environment()\n",
    "    a = Channel(env)\n",
    "    b = Channel(env)\n",
    "    P = producer(env, a)\n",
    "    B1 = buffer(env, a, b)\n",
    "    C = consumer(env, b)\n",
    "    env.run()\n",
    "\n",
    "model()"
   ]
  },
  {
   "cell_type": "markdown",
   "metadata": {
    "pycharm": {
     "name": "#%% md\n"
    }
   },
   "source": [
    "---\n",
    "A two-place buffer can be created, by using the one-place buffer process twice. A two-place buffer is depicted below.\n",
    "\n",
    "| Figure 9.4: A 2-place buffer. |\n",
    "-\n",
    "<img src=\"figures/9-4.png\" width=75%>\n",
    "<a id='fig:9-4'></a>\n",
    "\n",
    "A two-place buffer is shown below. In the two-place buffer, processes `B1` and `B2` buffer maximal two items.\n",
    "If each buffer process contains an item, a third item has to wait in front of process `B1`. \n",
    "\n",
    "Note that `buffer_2_place` is not a process but a submodel, because it does not yield any events by itself"
   ]
  },
  {
   "cell_type": "code",
   "execution_count": null,
   "metadata": {},
   "outputs": [],
   "source": [
    "def buffer_2_place(env, c_in, c_out):\n",
    "    c_B1B2 = Channel(env)\n",
    "    B1 = buffer(env, c_in, c_B1B2)\n",
    "    B2 = buffer(env, c_B1B2, c_out)\n",
    "    \n",
    "def model():\n",
    "    env = Environment()\n",
    "    a = Channel(env)\n",
    "    b = Channel(env)\n",
    "    P = producer(env, a)\n",
    "    B = buffer_2_place(env, a, b)\n",
    "    C = consumer(env, b)\n",
    "    env.run()\n",
    "\n",
    "model()"
   ]
  },
  {
   "cell_type": "markdown",
   "metadata": {},
   "source": [
    "---\n",
    "This procedure can be extended to create even larger buffers. Another, more preferable manner however, is to describe a buffer in a single process by using a `select` statement and a list for storage of the items. Such a buffer is discussed in the next section."
   ]
  },
  {
   "cell_type": "markdown",
   "metadata": {},
   "source": [
    "## 9.2 A single process buffer\n",
    "An informal description of the process of a buffer, with an arbitrary number of stored items, is the following:\n",
    "- If the buffer has space for an item, *and* can receive an item from another process via channel `a`,\n",
    "    the buffer process receives that item, and stores the item in the buffer.\n",
    "- If the buffer contains at least one item, *and* the buffer can send that item to another process via\n",
    "    channel `b`, the buffer process sends that item, and removes that item from the buffer.\n",
    "- If the buffer can both send and receive a value, the buffer process selects one of the two possibilities (in a non-deterministic manner).\n",
    "- If the buffer can not receive an item, and can not send an item, the buffer process waits.\n",
    "\n",
    "\n",
    "Using the select function we learned in the previous chapter, we can create a buffer process, which can simultaneously send and receive items. An example of a finite buffer with `N` capacity is shown below. In the model of the buffer, list `xs` is used for storing the received items.\n",
    "\n",
    "This buffer can only send when there are items in the buffers (the guard for sending is `len(xs)>0`), and can only receive when the buffer is not yet full (the guard for receiving is `len(xs)<N`). The buffer then either sends or receives an item:\n",
    "\n",
    "    x = yield env.select(sending, receiving)\n",
    "\n",
    "\n",
    "Next to the sending and receiving of items (to and from the buffer process) is the question of how to order the stored items.\n",
    "A common form is the *first-in first-out* (fifo) queuing discipline. Items that enter the buffer first (first-in) also leave first (first-out), the order of items is preserved by the buffer process. Our buffer is has such a fifo policy.\n",
    "\n",
    "If an item `x` is receive, it is added at the rear of list:\n",
    "\n",
    "    if selected(receiving):\n",
    "            xs = xs + [x]\n",
    "    \n",
    "If an item `x` is receive, it is removed from the start of the list:\n",
    "    \n",
    "    if selected(sending):\n",
    "            xs = xs[1:]\n",
    "\n",
    "The model of the finite buffer is shown below:"
   ]
  },
  {
   "cell_type": "code",
   "execution_count": null,
   "metadata": {},
   "outputs": [],
   "source": [
    "# Finite buffer model\n",
    "@process\n",
    "def buffer(env, c_in, c_out, N):\n",
    "    xs = []\n",
    "    while True:\n",
    "        sending = c_out.send(xs[0]) if len(xs)>0 else None  # If there is an item in the buffer\n",
    "        receiving = c_in.receive()  if len(xs)<N else None  # If the buffer is not yet full\n",
    "        x = yield env.select(sending, receiving)\n",
    "        if selected(receiving):\n",
    "            xs = xs + [x]\n",
    "        if selected(sending):\n",
    "            xs = xs[1:]\n",
    "        print(f\"The buffer contains {len(xs)} item(s)\")"
   ]
  },
  {
   "cell_type": "code",
   "execution_count": null,
   "metadata": {},
   "outputs": [],
   "source": [
    "# Rest of model\n",
    "@process\n",
    "def producer(env, c_out):\n",
    "    for x in range(5):\n",
    "        yield env.execute(c_out.send(x))\n",
    "        yield env.timeout(1)\n",
    "\n",
    "@process\n",
    "def consumer(env, c_in):\n",
    "    while True:\n",
    "        x = yield env.execute(c_in.receive())\n",
    "        yield env.timeout(3)\n",
    "\n",
    "def model():\n",
    "    env = Environment()\n",
    "    a = Channel(env)\n",
    "    b = Channel(env)\n",
    "    P = producer(env, a)\n",
    "    B = buffer(env, a, b, 3)\n",
    "    C = consumer(env, b)\n",
    "    env.run()\n",
    "\n",
    "model()"
   ]
  },
  {
   "cell_type": "markdown",
   "metadata": {},
   "source": [
    "---\n",
    "Similarly, a buffer with an infinite capacity can be written as following:"
   ]
  },
  {
   "cell_type": "code",
   "execution_count": null,
   "metadata": {},
   "outputs": [],
   "source": [
    "# Infinite buffer model (FIFO)\n",
    "@process\n",
    "def buffer(env, c_in, c_out):\n",
    "    xs = []\n",
    "    while True:\n",
    "        sending = c_out.send(xs[0]) if len(xs)>0 else None\n",
    "        receiving = c_in.receive()\n",
    "        x = yield env.select(sending, receiving)\n",
    "        if selected(receiving):\n",
    "            xs = xs + [x]\n",
    "        if selected(sending):\n",
    "            xs = xs[1:]\n",
    "        print(f\"The buffer contains {len(xs)} item(s)\")"
   ]
  },
  {
   "cell_type": "code",
   "execution_count": null,
   "metadata": {},
   "outputs": [],
   "source": [
    "# Rest of model\n",
    "@process\n",
    "def producer(env, c_out):\n",
    "    for x in range(5):\n",
    "        yield env.execute(c_out.send(x))\n",
    "        yield env.timeout(1)\n",
    "\n",
    "@process\n",
    "def consumer(env, c_in):\n",
    "    while True:\n",
    "        x = yield env.execute(c_in.receive())\n",
    "        yield env.timeout(3)\n",
    "\n",
    "def model():\n",
    "    env = Environment()\n",
    "    a = Channel(env)\n",
    "    b = Channel(env)\n",
    "    P = producer(env, a)\n",
    "    B = buffer(env, a, b)\n",
    "    C = consumer(env, b)\n",
    "    env.run()\n",
    "\n",
    "model()"
   ]
  },
  {
   "cell_type": "markdown",
   "metadata": {},
   "source": [
    "---\n",
    "A first-in first-out buffer is also called a *queue*, while a first-in last-out (*lifo*) buffer is called a *stack*.\n",
    "A lifo buffer puts the last received item at the head of the list, and gets the first item from the list.\n",
    "\n",
    "    if selected(receiving):\n",
    "            xs = [x] + xs\n",
    "\n",
    "A model of a lifo buffer is:"
   ]
  },
  {
   "cell_type": "code",
   "execution_count": null,
   "metadata": {},
   "outputs": [],
   "source": [
    "# Lifo buffer model\n",
    "@process\n",
    "def buffer(env, c_in, c_out):\n",
    "    xs = []\n",
    "    while True:\n",
    "        sending = c_out.send(xs[0]) if len(xs)>0 else None \n",
    "        receiving = c_in.receive()\n",
    "        x = yield env.select(sending, receiving)\n",
    "        if selected(receiving):\n",
    "            xs = [x] + xs   # items are placed on top of the stack\n",
    "        if selected(sending):\n",
    "            xs = xs[1:]\n",
    "        print(f\"The buffer contains {len(xs)} item(s)\")"
   ]
  },
  {
   "cell_type": "code",
   "execution_count": null,
   "metadata": {},
   "outputs": [],
   "source": [
    "# Rest of model\n",
    "@process\n",
    "def producer(env, c_out):\n",
    "    for x in range(5):\n",
    "        yield env.execute(c_out.send(x))\n",
    "        yield env.timeout(1)\n",
    "\n",
    "@process\n",
    "def consumer(env, c_in):\n",
    "    while True:\n",
    "        x = yield env.execute(c_in.receive())\n",
    "        yield env.timeout(3)\n",
    "\n",
    "def model():\n",
    "    env = Environment()\n",
    "    a = Channel(env)\n",
    "    b = Channel(env)\n",
    "    P = producer(env, a)\n",
    "    B = buffer(env, a, b)\n",
    "    C = consumer(env, b)\n",
    "    env.run()\n",
    "\n",
    "model()"
   ]
  },
  {
   "cell_type": "markdown",
   "metadata": {
    "pycharm": {
     "name": "#%% md\n"
    }
   },
   "source": [
    "## 9.3 A token buffer\n",
    "In the next example, signals are buffered instead of items.\n",
    "The buffer receives and sends 'empty' items or *tokens*.\n",
    "Counter variable `w` denotes the difference of the number of tokens received and the number of tokens sent.\n",
    "If the buffer receives a token, counter `w` is incremented; if the buffer sends a token, counter `w` is decremented.\n",
    "If the number of tokens sent is less than the number of tokens received, there are tokens in the buffer, and `w > 0`.\n",
    "A receiving channel `a` is defined for receiving tokens.\n",
    "A sending channel `b` is defined for sending tokens.\n",
    "The buffer becomes:"
   ]
  },
  {
   "cell_type": "code",
   "execution_count": null,
   "metadata": {},
   "outputs": [],
   "source": [
    "# Token buffer model\n",
    "@process\n",
    "def buffer(env, c_in, c_out):\n",
    "    w = 0;\n",
    "    while True:\n",
    "        sending = c_out.send() if w>0 else None \n",
    "        receiving = c_in.receive()\n",
    "        yield env.select(sending, receiving)\n",
    "        if selected(receiving):\n",
    "            w = w + 1\n",
    "        if selected(sending):\n",
    "            w = w - 1\n",
    "        print(f\"The buffer contains {w} token(s)\")"
   ]
  },
  {
   "cell_type": "code",
   "execution_count": null,
   "metadata": {},
   "outputs": [],
   "source": [
    "# Rest of model\n",
    "@process\n",
    "def producer(env, c_out):\n",
    "    for i in range(5):\n",
    "        yield env.execute(c_out.send())\n",
    "        yield env.timeout(1)\n",
    "\n",
    "@process\n",
    "def consumer(env, c_in):\n",
    "    while True:\n",
    "        yield env.execute(c_in.receive())\n",
    "        yield env.timeout(3)\n",
    "\n",
    "        \n",
    "def model():\n",
    "    env = Environment()\n",
    "    a = Channel(env)\n",
    "    b = Channel(env)\n",
    "    P = producer(env, a)\n",
    "    B = buffer(env, a, b)\n",
    "    C = consumer(env, b)\n",
    "    env.run()\n",
    "\n",
    "model()"
   ]
  },
  {
   "cell_type": "markdown",
   "metadata": {},
   "source": [
    "## 9.4 A priority buffer\n",
    "\n",
    "A buffer for items with different priority is described in this section. An item has a high priority or a normal priority.\n",
    "Items with a high priority should leave the buffer first.\n",
    "\n",
    "In this example, an item is a dataclass with a field `prio`, denoting the priority, `0` for high priority, and `1` for normal priority:"
   ]
  },
  {
   "cell_type": "code",
   "execution_count": null,
   "metadata": {},
   "outputs": [],
   "source": [
    "@dataclass\n",
    "class Item:\n",
    "    prio: int = 0"
   ]
  },
  {
   "cell_type": "markdown",
   "metadata": {},
   "source": [
    "In the model the received items are, on the basis of the value of the `prio`-field in the item,\n",
    "stored in one of two lists: one list for 'high' items and one list for 'normal' items.\n",
    "The discipline of the buffer is that items with a high priority leave the buffer first.\n",
    "For the storage of items, two lists are used: a list for high priority items and a list for normal priority items.\n",
    "The two lists are described by a list of two lists `xs`:\n",
    "\n",
    "    xs = [ [], [] ];\n",
    "    \n",
    "List `xs[0]` contains the high priority items, `xs[1]` the normal priority items. The behavior of the priority buffer is as following:\n",
    "- Received items `x` are stored in `xs[x.prio]` by the statement `xs[x.prio] = xs[x.prio] + [x]`.\n",
    "- If the list of high priority items is not empty (`len(xs[0])>0`), items with high priority are sent. The first element in list `xs[0]` is element `xs[0][0]`.\n",
    "- If there are no high priority items (`len(xs[0])==0`), and there are normal priority items (`len(xs[1])>0`), the first element of list `xs[1]`, element `xs[1][0]`, is sent.\n",
    "\n",
    "The model for the priority buffer is shown below:"
   ]
  },
  {
   "cell_type": "code",
   "execution_count": null,
   "metadata": {},
   "outputs": [],
   "source": [
    "# Priority buffer model\n",
    "@process\n",
    "def buffer(env, c_in, c_out):\n",
    "    xs = [ [], [] ];\n",
    "    while True:\n",
    "        sending_prio   = c_out.send(xs[0][0]) if len(xs[0])>0 else None\n",
    "        sending_normal = c_out.send(xs[1][0]) if (len(xs[1])>0 and len(xs[0])==0) else None\n",
    "        receiving = c_in.receive()\n",
    "        x = yield env.select(sending_prio, sending_normal, receiving)\n",
    "        if selected(receiving):\n",
    "            xs[x.prio] = xs[x.prio] + [x]\n",
    "        if selected(sending_prio):\n",
    "            xs[0] = xs[0][1:]\n",
    "        if selected(sending_normal):\n",
    "            xs[1] = xs[1][1:]\n",
    "        print(f\"The buffer contains {len(xs[1])} normal item(s) and {len(xs[0])} priority items\")"
   ]
  },
  {
   "cell_type": "code",
   "execution_count": null,
   "metadata": {},
   "outputs": [],
   "source": [
    "# Rest of model\n",
    "@dataclass\n",
    "class Item:\n",
    "    prio: int = 0\n",
    "\n",
    "@process\n",
    "def producer(env, c_out):\n",
    "    random_prio = lambda: random.randint(2)  # priority is assigned randomly \n",
    "    for i in range(10):\n",
    "        x = Item(prio = random_prio())\n",
    "        yield env.execute(c_out.send(x))\n",
    "        yield env.timeout(1)\n",
    "\n",
    "@process\n",
    "def consumer(env, c_in):\n",
    "    while True:\n",
    "        x = yield env.execute(c_in.receive())\n",
    "        yield env.timeout(3)\n",
    "\n",
    "        \n",
    "def model():\n",
    "    env = Environment()\n",
    "    a = Channel(env)\n",
    "    b = Channel(env)\n",
    "    P = producer(env, a)\n",
    "    B = buffer(env, a, b)\n",
    "    C = consumer(env, b)\n",
    "    env.run()\n",
    "\n",
    "model()"
   ]
  },
  {
   "cell_type": "markdown",
   "metadata": {},
   "source": [
    "## 9.5 Exercises\n",
    "\n",
    "### Exercise 9.5.1 \n",
    " To study product flow to and from a factory, a setup as shown in Figure 9.5 is created. `F` is the factory being studied, generator `G` sends products into the factory, and exit process `E` retrieves finished products. The factory is tightly controlled by controller `C` that sends a signal to `G` or `E` before a product may be moved.\n",
    "\n",
    "| Figure 9.5: A controlled factory. |\n",
    "-\n",
    "<img src=\"figures/9-5.png\" width=100%>\n",
    "<a id='fig:9-5'></a>\n",
    "\n",
    " The model of the system (excluding the factory model) is as follows:"
   ]
  },
  {
   "cell_type": "code",
   "execution_count": null,
   "metadata": {},
   "outputs": [],
   "source": [
    "@process\n",
    "def Generator(env, c_out, c_signal, N):\n",
    "    for i in range(N):\n",
    "        yield env.execute(c_signal.receive())\n",
    "        yield env.execute(c_out.send(i))\n",
    "        \n",
    "@process\n",
    "def Exit(env, c_in, c_signal):\n",
    "    while True:\n",
    "        yield env.execute(c_signal.receive())\n",
    "        x = yield env.execute(c_in.receive())\n",
    "        print(f\"The Exit received {x}\")\n",
    "        \n",
    "@process\n",
    "def Controller(env, c_signal_gen, c_signal_exit, low, high):\n",
    "    count = 0\n",
    "    while True:\n",
    "        while count < high:\n",
    "            yield env.execute(c_signal_gen.send())\n",
    "            count = count+1\n",
    "        while count > low:\n",
    "            yield env.execute(c_signal_exit.send()) \n",
    "            count = count-1\n",
    "    \n",
    "def model(low, high, N):\n",
    "    env = Environment()\n",
    "    sg = Channel(env)\n",
    "    se = Channel(env)\n",
    "    gf = Channel(env)\n",
    "    fe = Channel(env)\n",
    "    G = Generator(env, gf, sg, N)\n",
    "    F = Factory(env, gf, fe)\n",
    "    E = Exit(env, fe, se)\n",
    "    C = Controller(env, sg, se, low, high)\n",
    "    env.run()"
   ]
  },
  {
   "cell_type": "markdown",
   "metadata": {},
   "source": [
    "---\n",
    "**A.** As a model of the factory, use a FIFO buffer process. Run the simulation, and check whether all products are received by the exit process."
   ]
  },
  {
   "cell_type": "code",
   "execution_count": null,
   "metadata": {},
   "outputs": [],
   "source": [
    "# 1a: FIFO factory\n",
    "@process\n",
    "def Factory(env, c_in, c_out):\n",
    "    ..."
   ]
  },
  {
   "cell_type": "code",
   "execution_count": null,
   "metadata": {},
   "outputs": [],
   "source": [
    "# 1a: execute the model\n",
    "model(low=0, high=1, N=10)"
   ]
  },
  {
   "cell_type": "markdown",
   "metadata": {},
   "source": [
    "---\n",
    "**B.** Change the control policy to `low = 1` and `high = 4`. Predict the outcome, and verify with simulation."
   ]
  },
  {
   "cell_type": "markdown",
   "metadata": {},
   "source": [
    "Predicted outcome: ..."
   ]
  },
  {
   "cell_type": "code",
   "execution_count": null,
   "metadata": {},
   "outputs": [],
   "source": [
    "# 1b: execute the model\n",
    "model(low=1, high=4, N=10)"
   ]
  },
  {
   "cell_type": "markdown",
   "metadata": {},
   "source": [
    "---\n",
    "**C.** The employees of the factory propose to stack the products in the factory to reduce the amount of space needed for buffering. Replace the factory process with a LIFO buffer process, run the experiments again, first with `low = 0` and `high = 1` and then with `low = 1` and `high = 4`."
   ]
  },
  {
   "cell_type": "code",
   "execution_count": null,
   "metadata": {},
   "outputs": [],
   "source": [
    "# 1a: LIFO factory\n",
    "@process\n",
    "def Factory(env, c_in, c_out):\n",
    "    ..."
   ]
  },
  {
   "cell_type": "code",
   "execution_count": null,
   "metadata": {},
   "outputs": [],
   "source": [
    "# 1c: execute the model\n",
    "model(low=0, high=1, N=10)"
   ]
  },
  {
   "cell_type": "code",
   "execution_count": null,
   "metadata": {},
   "outputs": [],
   "source": [
    "# 1c: execute the model\n",
    "model(low=1, high=4, N=10)"
   ]
  },
  {
   "cell_type": "markdown",
   "metadata": {},
   "source": [
    "---\n",
    "**D.** You will notice that some products stay in the factory forever. Why does that happen? How should the policy be changed to ensure all products eventually leave the factory?"
   ]
  },
  {
   "cell_type": "markdown",
   "metadata": {},
   "source": [
    "Answer: ..."
   ]
  },
  {
   "cell_type": "code",
   "execution_count": null,
   "metadata": {},
   "outputs": [],
   "source": [
    "model(....)"
   ]
  },
  {
   "cell_type": "markdown",
   "metadata": {},
   "source": [
    "## 9.6 Answers to exercises"
   ]
  },
  {
   "cell_type": "markdown",
   "metadata": {},
   "source": [
    "### Answer to 9.5.1"
   ]
  },
  {
   "cell_type": "markdown",
   "metadata": {},
   "source": [
    "<details>\n",
    "    <summary>[Click for the answer to 9.5.1]</summary>\n",
    "\n",
    "**A.** All products reach the exit process. The factory model is:\n",
    "\n",
    "```python\n",
    "@process\n",
    "def Factory(env, c_in, c_out):\n",
    "    xs = []\n",
    "    while True:\n",
    "        sending = c_out.send(xs[0]) if len(xs)>0 else None\n",
    "        receiving = c_in.receive()\n",
    "        x = yield env.select(sending, receiving)\n",
    "        if selected(receiving):\n",
    "            xs = xs + [x]\n",
    "        if selected(sending):\n",
    "            xs = xs[1:]\n",
    "```\n",
    "\n",
    "Execute the model with:\n",
    "\n",
    "```python\n",
    "model(low=0, high=1, N=10)\n",
    "```\n",
    "\n",
    "---\n",
    "**B.** Not all products reach the exit process. The reason is that the parameter low is 1. This parameters determines the minimum number of products that should be in the factory.\n",
    "\n",
    "```python\n",
    "model(low=1, high=4, N=10)\n",
    "```\n",
    "\n",
    "--- \n",
    "**C.**  Replace the factory model with the LIFO buffer model below. \n",
    "\n",
    "```python\n",
    "@process\n",
    "def Factory(env, c_in, c_out):\n",
    "    xs = []\n",
    "    while True:\n",
    "        sending = c_out.send(xs[0]) if len(xs)>0 else None\n",
    "        receiving = c_in.receive()\n",
    "        x = yield env.select(sending, receiving)\n",
    "        if selected(receiving):\n",
    "            xs = [x] + xs \n",
    "        if selected(sending):\n",
    "            xs = xs[1:]\n",
    "```\n",
    "- When simulating with `low = 0` and `high = 1`, all products reach the exit, and in the right order.\n",
    "```python\n",
    "model(low=0, high=1, N=10)\n",
    "```\n",
    "\n",
    "- When simulating with `low = 1` and `high = 4`, not all products reach the exit, and the order of the products is changed.\n",
    "```python\n",
    "model(low=1, high=4, N=10)\n",
    "```\n",
    "---\n",
    "**D.** The first condition is that `low=0`, the second condition is that the generator only generates a multiple of `high` in products. If both conditions are satisfied all products will reach the exit.\n",
    "\n",
    "```python\n",
    "model(low=0, high=4, N=12)\n",
    "```\n",
    "</details>\n",
    "\n"
   ]
  }
 ],
 "metadata": {
  "kernelspec": {
   "display_name": "Python (pychEnv)",
   "language": "python",
   "name": "pychenv"
  },
  "language_info": {
   "codemirror_mode": {
    "name": "ipython",
    "version": 3
   },
   "file_extension": ".py",
   "mimetype": "text/x-python",
   "name": "python",
   "nbconvert_exporter": "python",
   "pygments_lexer": "ipython3",
   "version": "3.7.1"
  }
 },
 "nbformat": 4,
 "nbformat_minor": 5
}
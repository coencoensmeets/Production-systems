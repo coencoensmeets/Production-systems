{
 "cells": [
  {
   "cell_type": "markdown",
   "metadata": {},
   "source": [
    "# 1 Introduction"
   ]
  },
  {
   "cell_type": "markdown",
   "metadata": {},
   "source": [
    "This interactive book is about the modeling of the operation of systems, e.g. semiconductor factories, assembly and packaging lines, car manufacturing plants, steel foundries, metal processing shops, beer breweries, health care systems, warehouses, order-picking systems. For a proper functioning of these systems, these systems are controlled by operators and electronic devices, e.g. computers.\n",
    "\n",
    "\n",
    "During the design process, engineers make use of (analytical) mathematical models, e.g. algebra and probability theory, to get answers about the operation of the system. For complex systems, (numerical) mathematical models are used, and computers  perform simulation experiments, to analyze the operation of the system. Simulation studies give answers to questions like:\n",
    "- What is the throughput of the system?\n",
    "- What is the effect of set-up time in a machine?\n",
    "- How will the batch size of an order influence the flow time of the product-items?\n",
    "- What is the effect of more surgeons in a hospital?\n",
    "\n",
    "\n",
    "The operation of a system can be described, e.g. in terms of concurrent or parallel operating processes. An example of a system with parallel operating processes is a manufacturing line, with a number of manufacturing machines, where product-items go from machine to machine. A surgery room in a hospital is a system where patients are treated by teams using medical equipment and sterile materials. A biological system can be described by a number of parallel processes, where, e.g. processes transform sugars into water and carbon-dioxide producing energy. In all these examples, processes operate in parallel to complete a task, and to achieve a goal. Concurrency is the dominant aspect in these type of systems, and as a consequence this holds too for their models. \n",
    "\n",
    "The operating behavior of parallel processes can be described by different formalisms, e.g. automata, Petri-nets or parallel processes. This book uses PyCh, a simulation library for Python specially developed for the course *analysis of production systems*. Modelling systems in PyCh is done in the following way: a system is abstracted into a model, with cooperating processes, where processes are connected to each other via channels. The channels are used for exchanging material and information. Models of the above mentioned examples consist of a number of concurrent processes connected by channels, denoting the flow of products, patients or personnel. In PyCh, communication takes place in a synchronous manner. This means that communication between a sending process, and a receiving process takes place only when both processes are able to communicate. Processes and channels can dynamically be altered. \n",
    "\n",
    "PyCh has a notation of *simulation time*, which is different from the *real time* that we experience. Simulation time represents the time inside our simulation; we can potentially simulate a process which takes days, months, or years, in just seconds of real time. Processes experience simulation time passing by in two ways: they can delay themselves for a fixed or stochastic period of time, which represents the time it takes to perform their actions. Or they can wait indefinitely untill another process is ready to communicate with them over a channel.\n"
   ]
  },
  {
   "cell_type": "markdown",
   "metadata": {},
   "source": [
    "## 1.1 PyCh in a nutshell\n",
    "\n",
    "During the past decades, simulation tools have been used with success, for the analysis of a variety of (industrial) systems. PyCh is a simulation library for Python, built on top of [SimPy](https://simpy.readthedocs.io/en/latest/index.html), a discrete-event simulation library. PyCh is largely inspired by the simulation language [Chi 3](https://cstweb.wtb.tue.nl/chi/trunk-r9682/) which was also developed at the [Eindhoven University of Technology](https://www.tue.nl/). PyCh's features are:\n",
    "\n",
    "- A system (and its control) is modeled as a collection of parallel running processes, communicating with each other using channels.\n",
    "- All processes live in a simulation 'environment'. We can execute this environment to simulate its processes.\n",
    "- Processes do not share data with other processes and channels are synchronous (sending and receiving is always done together at the same time), making reasoning about process behaviour easier.\n",
    "- Processes and channels are dynamic, new processes can be created as needed, and communication channels can be created or rerouted.\n",
    "- Time and (quasi-) random number generation distributions are available for modeling behavior of the system in time.\n",
    "- Finally, PyCh is a Python library, so it can be extended with the many available Python libraries that already exist, such as:\n",
    "    - [Numpy](https://numpy.org/), a scientific computing package\n",
    "    - [Scipy](https://scipy.org/), a scientific computing package for algorithms\n",
    "    - [Matplotlib](https://matplotlib.org/), a library for creating graphs and other visualizations\n",
    "    - Or any other of the thousands of existing Python libraries\n",
    "    \n",
    "Some of the concepts which use when modelling and simulating in PyCh are explained in the following chapters:\n",
    "- **Chapter 2: Datatypes**; such as integers, real numbers, strings, lists, sets and dictionaries.\n",
    "- **Chapter 3: Statements**; such as the assign statement, and the if, while, and for statements.\n",
    "- **Chapter 4: Functions and classes**; how you create your own functions and (data)classes.\n",
    "- **Chapter 5: Input and output**; such as printing output and plotting graphs to the screen, reading and writing files.\n",
    "- **Chapter 6: Modelling stochastic behaviour**; using lambda functions and constant/discrete/continuous distributions.\n",
    "- **Chapter 7: Processes**; how you define processes, how their behaviour is modelled, and how they interact with each other and the environment.\n",
    "- **Chapter 8: Channels**; how you define channels, and how processes can use them to communicate.\n",
    "- **Chapter 9: Buffers**; what are the different types of buffers, and how can you use buffers to store entities that are not ready yet to be processed.\n",
    "- **Chapter 10: Production lines**; how do you model a production line with different types of servers."
   ]
  },
  {
   "cell_type": "markdown",
   "metadata": {},
   "source": [
    "## 1.2 Python \n",
    "\n",
    "As mentioned before, the PyCh is a simulation package for the general-purpose programming language [Python](https://www.python.org/). Python is one of the most useful languages an engineer can learn; it is *the* most popular of all programming languages, and it it sees widespread use in both the scientific community, and in industry. Python is beginner friendly, it is versatile, it has a simple syntax that mimics the english language, and one of its main advantages, is that it has thousands of ready to use packages you can import into your own code, such as for example the aforementioned scientific libraries: [Numpy](https://numpy.org/), [Scipy](https://scipy.org/), and [Matplotlib](https://matplotlib.org/).\n",
    "\n",
    "Most of you will be familiar with Matlab. Python and Matlab share a lot of the same syntax. You can [click here](https://realpython.com/matlab-vs-python/) if you are interested in the similarities and differences between these two in for example [functionality](https://realpython.com/matlab-vs-python/#matlab-vs-python-comparing-features-and-philosophy) or [syntax](https://realpython.com/matlab-vs-python/#syntax-differences-between-matlab-and-python). One of the most important differences is that Python relies on indentation to define the scope of function definitions, and if/while/for statements; no end statement is used. Another big difference is that the numbering in Python is zero-based instead of first-based: the first index in a sequence has index `0`.\n",
    "\n",
    "For example, the following code in Matlab:\n",
    "```matlab \n",
    "def function():  \n",
    "    x = [1, 2]\n",
    "    if x[1] == 1:\n",
    "        y = x     % A comment\n",
    "    end\n",
    "end\n",
    "```\n",
    "\n",
    "Becomes this in Python:\n",
    "```python \n",
    "def function():\n",
    "    x = [1, 2]\n",
    "    if x[0]:\n",
    "        y = x     # A comment\n",
    "```\n",
    "\n",
    "If you have zero knowledge of Python, or any similar progamming languages, we recommend that you take a look at some of the first few chapters of a Python introduction course such as [this one](https://www.w3schools.com/python/default.asp)."
   ]
  },
  {
   "cell_type": "markdown",
   "metadata": {},
   "source": [
    "## 1.3 Jupyter Notebook\n",
    "This book is written in [Jupyter Notebook](https://jupyter-notebook-beginner-guide.readthedocs.io/en/latest/what_is_jupyter.html), which you must already know if you are reading this. Jupyter notebook is an open source web-application that allows us to share documents that integrate live code as well as explanatory texts, equations and figures. In this course, we use Jupyter notebook to model and simulate manufacturing systems. As you will see in the tutorial, first a piece of explanatory text about the code can be written and this can be followed by the piece of code. This allows for an interactive form of computing, since you can read about the code, run the code, adjust the code and repeat. This interactive form of computing makes it easier to understand the code. To get more in formation on the possibilities in jupyter notebook and how to use it some links are provided below. \n",
    "\n",
    "The userface components of jupyter notebook such as the tool bar you see above, are explained [here](https://jupyter-notebook.readthedocs.io/en/stable/examples/Notebook/Notebook%20Basics.html), and for more in-depth information you can check [this link](https://jupyter.brynmawr.edu/services/public/dblank/Jupyter%20Notebook%20Users%20Manual.ipynb). Additionally, [here](https://jupyter-notebook.readthedocs.io/en/stable/examples/Notebook/examples_index.html) you can find examples on all the important topics in jupyter notebook. If you encounter any problems, try troubleshooting with the help of [this link](https://jupyter-notebook.readthedocs.io/en/stable/troubleshooting.html). \n",
    "\n",
    "Every notebook in jupyter notebook is composed of *cells*. A cell can contain text (which is called markdown), or executable code.\n",
    "The most important buttons in Jupyter are shown in Figure 1.1. \n",
    "\n",
    "| Figure 1.1:  The Run, interrupt, restart, and re-run buttons. | \n",
    "|-|  \n",
    "| <img src=\"figures/jupyterbuttons.png\"><a id='fig:1-1'></a> |\n",
    "\n",
    "These buttons are:\n",
    "1. Saving the notebook\n",
    "2. Adding a cell\n",
    "3. Running a cell\n",
    "4. Interrupting the kernel (all code stops executing)\n",
    "5. Restarting the kernel (all code that was ran is \"forgotten\")\n",
    "6. Restarting the kernel and re-running all cells\n",
    "7. The dialog button which allows you to set a cell to either Code or Markdown.\n"
   ]
  },
  {
   "cell_type": "markdown",
   "metadata": {},
   "source": [
    "## 1.4 Modelling and simulating with PyCh\n",
    "\n",
    "In this section we will walk through an example of how we will be modelling and simulating with PyCh in Jupyter Notebook. You do not need to fully understand the code or all the modelling steps we show, they are just there to show what we can do with the PyCh simulation tool. During this course, you will slowly learn how to make these models yourself.\n",
    "\n",
    "\n",
    "The system we will model is the KIVA system: a new technology in warehousing which uses self-driving robots (so called 'pods') which can pick up and move racks to help in order-picking (shown in Figure 1.1). You might recognize this system from the lecture notes (you can also find a video of the KIVA system [here](https://www.youtube.com/watch?v=6KRjuuEVEZs)). In this warehousing sytems, racks, containing items ordered by a customer, are automatically retrieved from the storage area and transported to an order-picking station by these robots. These robots are small autonomous drive units that can carry a rack (by moving under and then lifting the rack). The benefits of such automated warehousing systems are, for example, high throughput capability, flexibility and scalability. By adding more robots, the throughput capacity of handling additional customer orders can be increased in a relatively short time span. The question is: How many robots are needed to achieve a certain target throughput capacity?\n",
    "\n",
    "A  model of the KIVA system is shown in Figure 1.3. The robots pick a rack up at the *storage area*, and bring it to the *pick station*. When they arrive at the pick station, they first arriva at a *buffer*, a queue of robots waiting to be picked. Once the items are picked, the robot returns to the storage aread and the cycle repeats.\n",
    "\n",
    "\n",
    "| Figure 1.2:  The KIVA warehouse system. |  Figure 1.3:  A model of the KIVA system. | \n",
    "|-| -| \n",
    "| <img src=\"figures/kiva3.png\" width=400><a id='fig:1-1'></a> | <img src=\"figures/kivamodel.png\" width=300><a id='fig:1-2'></a>|\n",
    "\n",
    "\n",
    "When modelling in Jupyter Notebook, we can create our model step-by-step. There is no need to create the entire model in one go. **Keep in mind, everything that you define (variables, functions, processes, etc.) is not forgotten until you either redefine it, or until you restart the Kernel.** \n",
    "\n",
    "Our first step is importing the Python libraries that we will use. Select the code below, and execute it using the `Run` button above. Some text should appear to confirm that the PyCh library was imported correctly."
   ]
  },
  {
   "cell_type": "code",
   "execution_count": 1,
   "metadata": {},
   "outputs": [
    {
     "name": "stdout",
     "output_type": "stream",
     "text": [
      "PyCh version 0.4 imported succesfully.\n",
      " \n"
     ]
    }
   ],
   "source": [
    "# =================================\n",
    "# Imports\n",
    "# =================================\n",
    "from PyCh import *"
   ]
  },
  {
   "cell_type": "markdown",
   "metadata": {},
   "source": [
    "---\n",
    "The next step is to define our KIVA `model`. In our model we define:\n",
    "- The parameters of our model:\n",
    "    - Number of robots `N`\n",
    "    - Rate for storing and retrieving racks `la`\n",
    "    - Rate for picking racks `mu`\n",
    "- The simulation environment of our model `env`\n",
    "- The channels through which processes can communicate: `a`, `b` and `c`\n",
    "- The processes which live in the simulation environment:\n",
    "    - Generator process `G`\n",
    "    - A list of multiple Storage processes `Ss`\n",
    "    - Buffer process `B`\n",
    "    - Pick process `P`\n",
    "\n",
    "The final line of code in the model is that the environment `env` is simulated using `env.run`.\n",
    "\n",
    "Again, select the code below, and click the `Run` button. "
   ]
  },
  {
   "cell_type": "code",
   "execution_count": null,
   "metadata": {},
   "outputs": [],
   "source": [
    "# =================================\n",
    "# KIVA Model\n",
    "# =================================\n",
    "def model(N):\n",
    "    la = 4.0    # average rate / hour for storing and retrieving racks\n",
    "    mu = 20.0   # average rate / hour for picking of racks\n",
    "    env = Environment()\n",
    "    a = Channel(env)\n",
    "    b = Channel(env)\n",
    "    c = Channel(env)\n",
    "    G = Generator(env, a, N)\n",
    "    Ss = [Storage(env, a, b, la) for j in range(N)]\n",
    "    B = Buffer(env, b, c)\n",
    "    P = Pick(env, c, a, mu, 10000)\n",
    "    env.run()\n",
    "    \n",
    "    throughput = P.value\n",
    "    print(f\"--- The throughput of the sytem with {N} robots is = {throughput:.2f} racks/hour---\")\n",
    "    return throughput\n",
    "\n",
    "print(\"--- The model was defined, but it was not yet executed ---\")"
   ]
  },
  {
   "cell_type": "markdown",
   "metadata": {},
   "source": [
    "---\n",
    "As you can see, nothing happened yet. We only defined our model, but we did not yet execute it! However, we first need to define the *process functions* of the `Generator`, `Storage` `Buffer` and `Pick` processes, and the `Pod` entities flowing through the system. Run the code below to define the various processes. Do not try to fully understand the code, we will get back to that in the later chapters!\n"
   ]
  },
  {
   "cell_type": "code",
   "execution_count": null,
   "metadata": {},
   "outputs": [],
   "source": [
    "# =================================\n",
    "# Pod definition\n",
    "# =================================\n",
    "@dataclass\n",
    "class Pod:\n",
    "    id: int = 0\n",
    "\n",
    "# =================================\n",
    "# Generator definition\n",
    "# =================================\n",
    "@process\n",
    "def Generator(env, c_out, N):\n",
    "    for i in range(N):\n",
    "        x = Pod()\n",
    "        send = c_out.send(x)\n",
    "        yield env.execute(send)\n",
    "\n",
    "# =================================\n",
    "# Storage definition\n",
    "# =================================\n",
    "@process\n",
    "def Storage(env, c_in, c_out, la):\n",
    "    while True:\n",
    "        receive = c_in.receive()\n",
    "        x = yield env.execute(receive)\n",
    "\n",
    "        delay = random.exponential(1.0 / la)\n",
    "        yield env.timeout(delay)\n",
    "\n",
    "        send = c_out.send(x)\n",
    "        yield env.execute(send)\n",
    "\n",
    "# =================================\n",
    "# Buffer definition\n",
    "# =================================\n",
    "@process\n",
    "def Buffer(env, c_in, c_out):\n",
    "    xs = [] # list of pods\n",
    "    while True:\n",
    "        receiving = c_in.receive()\n",
    "        sending = c_out.send(xs[0]) if len(xs)>0 else None\n",
    "        yield env.select(sending, receiving)\n",
    "        if selected(sending):\n",
    "            xs = xs[1:]\n",
    "        if selected(receiving):\n",
    "            x = receiving.entity\n",
    "            xs = xs + [x]\n",
    "\n",
    "\n",
    "# =================================\n",
    "# Pick definition\n",
    "# =================================\n",
    "@process\n",
    "def Pick(env, c_in, c_out, mu, n):\n",
    "    for i in range(n):\n",
    "        receive = c_in.receive()\n",
    "        x = yield env.execute(receive)\n",
    "\n",
    "        delay = random.exponential(1.0 / mu)\n",
    "        yield env.timeout(delay)\n",
    "\n",
    "        send = c_out.send(x)\n",
    "        yield env.execute(send)\n",
    "    throughput = n / env.now\n",
    "    return throughput\n"
   ]
  },
  {
   "cell_type": "markdown",
   "metadata": {},
   "source": [
    "---\n",
    "You are now ready to run your first model! Run the model below to see what the throughput is when the system has `1` robot."
   ]
  },
  {
   "cell_type": "code",
   "execution_count": null,
   "metadata": {},
   "outputs": [],
   "source": [
    "model(N = 1);"
   ]
  },
  {
   "cell_type": "markdown",
   "metadata": {},
   "source": [
    "---\n",
    "We can even use this model to create an experiment in which we try simulate our system for different numbers of robots. Run the two code cells below."
   ]
  },
  {
   "cell_type": "code",
   "execution_count": null,
   "metadata": {},
   "outputs": [],
   "source": [
    "def experiment(low, high):\n",
    "    throughputData = []\n",
    "    nRobotsData = []\n",
    "    for n in range(low, high+1):\n",
    "        throughput = model(n)\n",
    "        throughputData = throughputData + [throughput]\n",
    "        nRobotsData = nRobotsData + [n]\n",
    "    return throughputData, nRobotsData"
   ]
  },
  {
   "cell_type": "code",
   "execution_count": null,
   "metadata": {},
   "outputs": [],
   "source": [
    "throughputData, nRobotsData = experiment(1,10)"
   ]
  },
  {
   "cell_type": "markdown",
   "metadata": {},
   "source": [
    "---\n",
    "We can then use the data gathered in our experiment to create a graph which plots the number of robots against the throughput in racks/hour."
   ]
  },
  {
   "cell_type": "code",
   "execution_count": null,
   "metadata": {},
   "outputs": [],
   "source": [
    "fig, ax1 = plt.subplots()\n",
    "plt.plot(nRobotsData, throughputData, label='sin(x)')\n",
    "plt.xlabel(\"N robots\")\n",
    "plt.ylabel(\"Throughput [racks/hour]\")\n",
    "plt.grid()"
   ]
  },
  {
   "cell_type": "markdown",
   "metadata": {},
   "source": [
    "---\n",
    "You can now continue with the rest of the chapters, in which you will learn to model systems such as the KIVA system yourself!"
   ]
  }
 ],
 "metadata": {
  "kernelspec": {
   "display_name": "Python (pychEnv)",
   "language": "python",
   "name": "pychenv"
  },
  "language_info": {
   "codemirror_mode": {
    "name": "ipython",
    "version": 3
   },
   "file_extension": ".py",
   "mimetype": "text/x-python",
   "name": "python",
   "nbconvert_exporter": "python",
   "pygments_lexer": "ipython3",
   "version": "3.7.1"
  }
 },
 "nbformat": 4,
 "nbformat_minor": 2
}

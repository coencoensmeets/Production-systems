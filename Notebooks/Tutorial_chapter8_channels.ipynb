{
 "cells": [
  {
   "cell_type": "markdown",
   "metadata": {},
   "source": [
    "**To use the examples in this chapter, first run the code below to import the right libraries.**"
   ]
  },
  {
   "cell_type": "code",
   "execution_count": null,
   "metadata": {
    "pycharm": {
     "is_executing": true
    }
   },
   "outputs": [],
   "source": [
    "# =================================\n",
    "# Imports\n",
    "# =================================\n",
    "from PyCh import *\n",
    "from numpy import random\n",
    "from dataclasses import dataclass\n",
    "import math"
   ]
  },
  {
   "cell_type": "markdown",
   "metadata": {},
   "source": [
    "# 8 Channels\n",
    "In the previous chapter processes have been introduced. This chapter describes channels.\n",
    "A channel connects two processes and is used for the transfer of data or just signals.\n",
    "One process is the sending process, the other process is the receiving process.\n",
    "Communication between the processes takes place instantly when both processes are willing to communicate,\n",
    " this is called *synchronous* communication."
   ]
  },
  {
   "cell_type": "markdown",
   "metadata": {},
   "source": [
    "## 8.1 A channel\n",
    "So now that you know what a channel is, you need to know how to use them in your models. You can add a channel to environment `env` by instantiating `Channel(env)`. A channel always has the simulation environment in which it operates as its single argument.\n",
    "\n",
    "To communicate across a channel we use *communication events*. We can send an entity over a channel by using the communication event `Channel.send(entity)`,  and we can receive over the same channel by using the communication event `Channel.receive()`. Unlike timeout events or processes, communication events do not start as soon as they are defined. Instead, `Environment.execute(communication event)` is used to start the communication event. A channel can transmit any object as entity; for example an integer, a string, or a custom data type. \n",
    "\n",
    "Communication over a channel requires a process which is sending, and a process which is receiving. If a process has no other process to communicate with, then it will have to wait. Communication is only completed once the receiving process has received the entity from the sending process. If a process uses the `yield` statement, such as with `yield Environment.execute(communication event)`, then the process waits till communication has completed (from both sides!) before it continues.\n"
   ]
  },
  {
   "cell_type": "markdown",
   "metadata": {},
   "source": [
    "\n",
    "### 8.1.1 Producer and consumer example\n",
    "\n",
    "The figure below shows the two processes `P` and `C`, connected by channel `a`. Processes are denoted by circles, and channels are denoted by directed arrows in the figure. The arrow denotes the direction of communication. Process `P` is the sender or producer, process `C` is the receiver or consumer.\n",
    "\n",
    "| Figure 8.1: A producer and a consumer |\n",
    "- \n",
    "<img src=\"figures/8-1.png\" width=75%>\n",
    "<a id='fig:8-1'></a>\n",
    "\n",
    "In the model below, the producer `P` sends a stream of five integer values to consumer `C`. \n",
    "The producer sends integers `i` over channel `a`, which is realized through `env.execute(a.send(i))`. It sends the sequence of values `0, 1, 2, 3, 4` one after the other. The consumer receives these values one by one over channel `a` with `i = yield env.execute(a.receive())`. It then prints these values as output.\n",
    "\n",
    "The simulation runs until there are no more events to execute. So in the example below the simulation will end once the producer has sent all five integers, even though the process of the consumer is supposed to go on forever (on account of its `while True:` loop). This is because none of the processes are active; all processes are either finished (the producer), or are waiting for other processes to do something (the consumer)."
   ]
  },
  {
   "cell_type": "code",
   "execution_count": null,
   "metadata": {
    "pycharm": {
     "is_executing": true,
     "name": "#%% python code\n"
    }
   },
   "outputs": [],
   "source": [
    "@process\n",
    "def producer(env, c_out):\n",
    "    for i in range(5):\n",
    "        yield env.execute(c_out.send(i))\n",
    "\n",
    "@process\n",
    "def consumer(env, c_in):\n",
    "    while True:\n",
    "        i = yield env.execute(c_in.receive())\n",
    "        print(i)\n",
    "\n",
    "def model():\n",
    "    env = Environment()\n",
    "    a = Channel(env)\n",
    "    P = producer(env, a)\n",
    "    C = consumer(env, a)\n",
    "\n",
    "    env.run()\n",
    "    print(\"The simulation has finished.\")\n",
    "    \n",
    "model()"
   ]
  },
  {
   "cell_type": "markdown",
   "metadata": {},
   "source": [
    "--- \n",
    "### 8.1.2 Synchronization signals\n",
    "Earlier we said that we can transmit any type of entity over a channel. What we did not yet tell, is that it is also possible to send an empty signal by using `Channel.send(None)`, these signals are called *synchronization signals*, as they just synchronize actions between different processes without transmitting data.\n",
    "\n",
    "Below we see an example in which synchronization signals are used; the producer does not send any data (it sends `None`). We first define our communication events through `sending = a.send(None)` and `receiving = a.receive()`, before executing and yielding them. This also allows us to later access the received entity through `receiving.entity` (which in this example is `None`)."
   ]
  },
  {
   "cell_type": "code",
   "execution_count": null,
   "metadata": {},
   "outputs": [],
   "source": [
    "@process\n",
    "def producer(env, c_out):\n",
    "    for i in range(5):\n",
    "        sending = c_out.send(None)\n",
    "        yield env.execute(sending)\n",
    "\n",
    "@process\n",
    "def consumer(env, c_in):\n",
    "    while True:\n",
    "        receiving = c_in.receive()\n",
    "        yield env.execute(receiving)\n",
    "        print(receiving.entity)\n",
    "\n",
    "def model():\n",
    "    env = Environment()\n",
    "    a = Channel(env)\n",
    "    P = producer(env, a)\n",
    "    C = consumer(env, a)\n",
    "\n",
    "    env.run()\n",
    "    \n",
    "model()"
   ]
  },
  {
   "cell_type": "markdown",
   "metadata": {},
   "source": [
    "## 8.2 Two channels\n",
    "A process can have more than one channel, allowing interaction with several other processes.\n",
    "\n",
    "The next example shows two channels, `a` and `b`, and three processes, generator `G`, server `S` and exit `E`. Process `G` is connected via channel `a` to process `S` and process `S` is connected via channel `b` to process `E`.\n",
    "The model is given in the figure below. \n",
    "\n",
    "\n",
    "| Figure 8.2: A generator, a server and an exit |\n",
    "- \n",
    "<img src=\"figures/8-2.png\" width=75%>\n",
    "<a id='fig:8-2'></a>\n",
    "\n",
    "The model below shows an example of such a configuration. Process `G` sends a stream of integer values `0, 1, 2, 3, 4` to another process via channel `a`. \n",
    "Process `S` receives a value via channel `a`, assigns this value to variable `x`, doubles the value of the variable, and sends the value of the variable via `b` to another process.\n",
    "Process `E` receives a value via channel `b`, assigns this value to the variable `x`, and prints this value.\n",
    "\n",
    "After printing these five lines, process `G` stops, and processes `S` and `E` are no longer able to receive anything, so the simulation ends.\n"
   ]
  },
  {
   "cell_type": "code",
   "execution_count": null,
   "metadata": {},
   "outputs": [],
   "source": [
    "@process\n",
    "def Generator(env, c_out):\n",
    "    for x in range(5):\n",
    "        sending = c_out.send(x)\n",
    "        yield env.execute(sending)\n",
    "\n",
    "@process\n",
    "def Server(env, c_in, c_out):\n",
    "    while True:\n",
    "        receiving = c_in.receive()\n",
    "        x = yield env.execute(receiving)\n",
    "        \n",
    "        sending = c_out.send(2*x)\n",
    "        yield env.execute(sending)\n",
    "\n",
    "@process\n",
    "def Exit(env, c_in):\n",
    "    while True:\n",
    "        receiving = c_in.receive()\n",
    "        x = yield env.execute(receiving)\n",
    "        print(f\"The Exit process received {x}\")\n",
    "\n",
    "def model():\n",
    "    env = Environment()\n",
    "    a = Channel(env)\n",
    "    b = Channel(env)\n",
    "    \n",
    "    G = Generator(env, a)\n",
    "    S = Server(env, a, b)\n",
    "    E = Exit(env, b)\n",
    "    \n",
    "    env.run()\n",
    "    \n",
    "model()"
   ]
  },
  {
   "cell_type": "markdown",
   "metadata": {},
   "source": [
    "## 8.3 More senders or receivers\n",
    "Channels send a message (or a signal in case of synchronization channels) from one sender to one receiver.\n",
    "It is however allowed to give the same channel to several sender or receiver processes. The channel chooses a sender and a receiver before each communication.\n",
    "\n",
    "The following example gives an illustration, see the figure below.\n",
    "\n",
    "| Figure 8.3: A generator, two servers and an exit |\n",
    "- \n",
    "<img src=\"figures/8-3.png\" width=75%>\n",
    "<a id='fig:8-3'></a>\n",
    "\n",
    "Suppose that only `G` and `S0` want to communicate. The channel wil choose a sender (namely `G`) and a receiver (process `S0`), and let both processes communicate with each other.\n",
    "When sender `G`, and both receivers (`S0` and `S1`), want to communicate,\n",
    "the channel chooses a sender (`G` as it is the only sender available to the channel), and a receiver (either process `S0` or process `S1`), and it lets the chosen processes communicate with each other. This selection process is random.\n",
    "\n",
    "Sharing a channel in this way allows to send data to receiving processes where the receiving party is not relevant (either server process will do).\n",
    "This way of communication is different from *broadcasting*, where both servers receive the same data value. Broadcasting is not supported in this simulation tool.\n",
    "\n",
    "In case of two senders, `S0` and `S1`, and one receiver `E` the selection process is the same.\n",
    "If one of the two servers `S` can communicate with exit `E`, communication between that server and the exit takes place.\n",
    "If both servers can communicate, a random choice is made. \n",
    "Having several senders and several receivers for a single channel is also handled in the same manner.\n",
    "A random choice is made for the sending process and a random choice is made for the receiving process before each communication. To communicate with several other processes but without non-determinism, unique channels must be used.\n",
    "\n",
    "Below is the model for the configuration with two servers."
   ]
  },
  {
   "cell_type": "code",
   "execution_count": null,
   "metadata": {},
   "outputs": [],
   "source": [
    "@process\n",
    "def Generator(env, c_out):\n",
    "    for i in range(5):\n",
    "        yield env.timeout(1)\n",
    "        x = f\"Entity {i} passed through G\"\n",
    "        yield env.execute(c_out.send(x))\n",
    "\n",
    "@process\n",
    "def Server(env, c_in, c_out, s):\n",
    "    while True:\n",
    "        x = yield env.execute(c_in.receive())\n",
    "        x = x + f\", S{s}\"\n",
    "        yield env.execute(c_out.send(x))\n",
    "\n",
    "@process\n",
    "def Exit(env, c_in):\n",
    "    while True:\n",
    "        x = yield env.execute(c_in.receive())\n",
    "        print(x + \" and E.\")\n",
    "\n",
    "def model():\n",
    "    env = Environment()\n",
    "    a = Channel(env)\n",
    "    b = Channel(env)\n",
    "    \n",
    "    G = Generator(env, a)\n",
    "    S0 = Server(env, a, b, 0)\n",
    "    S1 = Server(env, a, b, 1)\n",
    "    \n",
    "    E = Exit(env, b)\n",
    "    \n",
    "    env.run()\n",
    "    \n",
    "model()"
   ]
  },
  {
   "cell_type": "markdown",
   "metadata": {},
   "source": [
    "## 8.4 Many channels\n",
    "Multiple channels can be defined at once using list comprehension.\n",
    "This can be useful in combination with list comprehension for processes.\n",
    "\n",
    "Below is an example of using list comprehension to quickly create three channels at once for three parallel production processes.\n",
    "\n",
    "| Figure 8.4: Three parallel production processes |\n",
    "- \n",
    "<img src=\"figures/8-4.png\" width=50%>\n",
    "<a id='fig:8-4'></a>\n",
    "\n",
    "The model for this example is shown below. We can re-use the process functions defined in the previous example; only the model needs to be redefined."
   ]
  },
  {
   "cell_type": "code",
   "execution_count": null,
   "metadata": {},
   "outputs": [],
   "source": [
    "def model():\n",
    "    N = 3 # the number of parallel processes\n",
    "    \n",
    "    env = Environment()\n",
    "    a = Channel(env)\n",
    "    b = [Channel(env) for i in range(N)]\n",
    "    c = Channel(env)\n",
    "    \n",
    "    G = Generator(env, a)\n",
    "    S012 = [Server(env, a, b[i], i) for i in range(N)]\n",
    "    S345 = [Server(env, b[i], c, i+N) for i in range(N)]\n",
    "    E = Exit(env, c)\n",
    "    \n",
    "    env.run()\n",
    "    \n",
    "model()"
   ]
  },
  {
   "cell_type": "markdown",
   "metadata": {},
   "source": [
    "## 8.5 Monitoring multiple communication events\n",
    "In some situations it might be necessary for a process to monitor multiple communication events at once. For example, when a process wants to send one entity across either of two channels, which means we need to monitor both communication events to watch if either of them accepts the entity, and we must then execute only one of the communication events (not over both!).\n",
    "\n",
    "We can achieve this using the `select` function: `Environment.select(communication event 1, communication event 2, ...)`. This function takes multiple communication events as input. When the select function is used, the simulation monitors if any of the communication events can occur, and then executes the first one that can. If multiple communication events are able to occur at the same time, one is *selected* at random (hence the name of the function). The communication events which were not selected are aborted. The end result is the same as if the selected communication event was executed using `Environment.execute(selected communication event)`.\n",
    "\n",
    "This function accepts both communication events, as well as lists of communication events (lists must be preceded by an asterisk `*`). Examples are:\n",
    "- Multiple communication events as input: `Environment.select(communication event 1, communication event 2, ...)`\n",
    "- A list of communication events as input: `Environment.select(*a list of communication events)`\n",
    "- A combination of the two as input: `Environment.select(*list of communication events 1-3, communication event 4, ...)`\n",
    "\n",
    "The output when yielding a select function `output = yield Environment.select(...)` depends on what type of communication event was selected; the function returns the received entity as output when a receive event was selected, and it returns `None` as output when a send event was selected.\n",
    "\n",
    "Below is an example of a provider which is able to provide across two different channels."
   ]
  },
  {
   "cell_type": "code",
   "execution_count": null,
   "metadata": {},
   "outputs": [],
   "source": [
    "@process\n",
    "def DualProvider(env, c_out1, c_out2):\n",
    "    for x in range(10):\n",
    "        sending1 = c_out1.send(x)\n",
    "        sending2 = c_out2.send(x)\n",
    "        yield env.select(sending1, sending2) # we try to send the entity over both channels a and b\n",
    "\n",
    "@process\n",
    "def Consumer(env, c_in, i):\n",
    "    while True:\n",
    "        x = yield env.execute(c_in.receive())\n",
    "        print(f\"Consumer {i} received entity {x}\")\n",
    "        \n",
    "    \n",
    "def model():\n",
    "    env = Environment()\n",
    "    a = Channel(env)\n",
    "    b = Channel(env)\n",
    "    DP = DualProvider(env, a, b)\n",
    "    C1 = Consumer(env, a, 1)\n",
    "    C2 = Consumer(env, b, 2)\n",
    "    env.run()\n",
    "    \n",
    "model()"
   ]
  },
  {
   "cell_type": "markdown",
   "metadata": {},
   "source": [
    "### 8.5.1 Describing the outcomes by using the selected function\n",
    "In some instances, a process will take a different action depending on which communication event was selected. We can check if a communication event was selected by using the `selected(communication event)` function, which returns `True`  if the communication event has occurred. This is useful when we want to describe different outcomes depending on which event was selected.\n",
    "\n",
    "The example below shows how we can check if either `sending1` or `sending2` has been selected. The same example also gives an example of using a list of communication events as input for the select function."
   ]
  },
  {
   "cell_type": "code",
   "execution_count": null,
   "metadata": {
    "scrolled": true
   },
   "outputs": [],
   "source": [
    "@process\n",
    "def DualProvider(env, c_out1, c_out2):\n",
    "    for x in range(10):\n",
    "        sending1 = c_out1.send(x)\n",
    "        sending2 = c_out2.send(x)\n",
    "        communication_events = [sending1, sending2]\n",
    "        yield env.select(*communication_events)\n",
    "        if selected(sending1):\n",
    "            print(f\"Provider sent entity {x} across channel a\")\n",
    "        if selected(sending2):\n",
    "            print(f\"Provider sent entity {x} across channel b\")\n",
    "            \n",
    "@process\n",
    "def Consumer(env, c_in, i):\n",
    "    while True:\n",
    "        x = yield env.execute(c_in.receive())\n",
    "            \n",
    "def model():\n",
    "    env = Environment()\n",
    "    a = Channel(env)\n",
    "    b = Channel(env)\n",
    "    DP = DualProvider(env, a, b)\n",
    "    C1 = Consumer(env, a, 1)\n",
    "    C2 = Consumer(env, b, 2)\n",
    "    C3 = Consumer(env, a, 3)\n",
    "    C4 = Consumer(env, b, 4)\n",
    "    env.run()\n",
    "    \n",
    "model()"
   ]
  },
  {
   "cell_type": "markdown",
   "metadata": {},
   "source": [
    "### 8.5.2 Guards\n",
    "Suppose that a process needs to watch different sets of communication events in different scenario's. We could describe every different scenario explicitely, but this would lead to bloated code. Instead, we can add a *guard* to our communication events. A guard can be very useful when a process needs to watch multiple different communication events at the same time, with some communication events only being allowed under certain conditions. \n",
    "\n",
    "A guard is a boolean function which denotes under which conditions a communication event is allowed to take place. A sending event with a guard would look as follows:\n",
    "- `sending = channel.send(entity) if guard_sending else None`\n",
    "  - with `guard_sending` being a boolean expression denoting if sending is allowed to take place.\n",
    "\n",
    "We can use guards this way because the `Environment.select(...)` function skips any communication event which has as value `None`. If there are no communication events for which the guard is `True`, then the process continues without any communication.\n",
    "\n",
    "Below is an example of an the dual provider using guards. In this scenario:\n",
    "- It only sends across channel1 if `x` is a multiple of 2.\n",
    "- It only sends across channel2 if `x` is a multiple of 3.\n",
    "\n",
    "This translates to `guard1 = (x % 2 == 0)` for `sending1` and `guard2 = (x % 3 == 0)` for `sending2`. The result is:\n",
    "- If both `guard1` and `guard2` are true (e.g. `x=6`), select either `sending1` or `sending2` randomly \n",
    "- If either of the guards is true, and the other is false (e.g. `x=3`), select the corresponding communication event.\n",
    "- If neither of the guards is true (e.g. `x=1`), throw away entity `x`."
   ]
  },
  {
   "cell_type": "code",
   "execution_count": null,
   "metadata": {},
   "outputs": [],
   "source": [
    "@process\n",
    "def DualProvider(env, c_out1, c_out2):\n",
    "    for x in range(1,21):\n",
    "        guard1 = (x % 2 == 0)  # The guard for sending across channel c_out1: only send when x is a multiple of 2\n",
    "        guard2 = (x % 3 == 0)  # The guard for sending across channel c_out2: only send when x is a multiple of 3\n",
    "        \n",
    "        sending1 = c_out1.send(x) if guard1 else None  # only execute sending1 when guard1 is satisfied\n",
    "        sending2 = c_out2.send(x) if guard2 else None  # only execute sending2 when guard1 is satisfied\n",
    "        \n",
    "        communication_events = [sending1, sending2]\n",
    "        yield env.select(*communication_events)\n",
    "        if selected(sending1):\n",
    "            print(f\"Provider sent entity {x} across channel a\")\n",
    "        if selected(sending2):\n",
    "            print(f\"Provider sent entity {x} across channel b\")\n",
    "        if not selected(sending1) and not selected(sending2):\n",
    "            print(f\"Provider throws away entity {x}\")\n",
    "\n",
    "@process\n",
    "def Consumer(env, c_in, i):\n",
    "    while True:\n",
    "        x = yield env.execute(c_in.receive())            \n",
    "            \n",
    "def model():\n",
    "    env = Environment()\n",
    "    a = Channel(env)\n",
    "    b = Channel(env)\n",
    "    DP = DualProvider(env, a, b)\n",
    "    C1 = Consumer(env, a, 1)\n",
    "    C2 = Consumer(env, b, 2)\n",
    "    env.run()\n",
    "    \n",
    "model()"
   ]
  },
  {
   "cell_type": "markdown",
   "metadata": {},
   "source": [
    "## 8.6 Summary\n",
    "\n",
    "- A channel is defined with `channel = Channel(environment)`\n",
    "- Communication over a channel is done using communication events.\n",
    "    - A process can send an entity over a channel with communication event `sending = channel.send(entity)`\n",
    "    - A process can receive over a channel with communication event `receiving = channel.receive()` \n",
    "    - Communication events do not start automatically, they need to be executed through `env.execute(communication event)`\n",
    "- A channel can transmit any type of entity; for example integers, strings, or even a custom data type\n",
    "    - a Signal without data is named a *synchronization signal* and is done through: `channel.send(None)`\n",
    "- A channel can have several processes sending and/or receiving.\n",
    "    - If multiple processes want to send/receive at the same time, then the channel will select a sender and a receiver at random.\n",
    "- Multiple channels can be defined using list comprehension, which can be useful in combination with list comprehension for processes.\n",
    "\t- An example would be `channels = [Channel(env) for i in range(10)]`\n",
    "- Monitoring multiple channels \n",
    "     - A process can select one of multiple communication events. Only the first communication event which is able to communicate will be executed, the others are aborted. If multiple communication events are able to communicate at the same time, then one is chosen at random. This can be done through:\n",
    "        - `env.select(communication event 1, communication event 2, ...)`\n",
    "        - `env.select(*list of communication events)`\n",
    "        - or with a combination of the two: `env.select(*list of communication events 1-3, communication event 4, ...)`\n",
    "     - We can check if a communication event was selected by using the `selected(communication event)` function, which returns `True`  if the communication event has occurred. This is useful when we want to describe different outcomes depending on which event was selected.\n",
    "     - Guards are boolean functions which denotes under which conditions a communication event is allowed to take place. \n",
    "        - An example of a send event with a guard would be: `sending = channel.send(entity) if guard_sending else None`\n",
    "          - with `guard_sending` being a boolean expression denoting if sending is allowed to take place."
   ]
  },
  {
   "cell_type": "markdown",
   "metadata": {},
   "source": [
    "## 8.7 Exercises\n",
    "1. Given is the specification of process `P` and model `M`. Why does the model terminate immediately?\n",
    "\n"
   ]
  },
  {
   "cell_type": "code",
   "execution_count": null,
   "metadata": {},
   "outputs": [],
   "source": [
    "@process\n",
    "def P(env, c_in, c_out):\n",
    "    x = 0\n",
    "    while True:\n",
    "        x = yield env.execute(c_in.receive())\n",
    "        x = x + 1\n",
    "        print(x)   \n",
    "        yield env.execute(c_out.send())\n",
    "\n",
    "def M():\n",
    "    env = Environment()\n",
    "    a = Channel(env)\n",
    "    b = Channel(env)\n",
    "   \n",
    "    P1 = P(a,b)\n",
    "    P2 = P(b,a)\n",
    "\n",
    "    env.run()"
   ]
  },
  {
   "cell_type": "markdown",
   "metadata": {
    "pycharm": {
     "name": "#%% md\n"
    }
   },
   "source": [
    "2. Six children have been given the assignment to perform a series of calculations on the numbers $0,1,2,3,\\ldots ,9$, namely add 2, multiply by 3, multiply by 2, and add 6 subsequently. They decide to split up the calculations and to operate in parallel. They sit down at a table next to each other. The first child, the reader $R$, reads the numbers $0,1,2,3,\\ldots ,9$ one by one to the first calculating child $C_1$. Child $C_1$ adds 2 and tells the result to its right neighbour, child $C_2$.  After telling the result to child $C_2$, child $C_1$ is able to start calculating on the next number the reader $R$ tells him. Children $C_2$, $C_3$, and $C_4$ are analogous to child $C_1$; they each perform a different calculation on a number they hear and tell the result to their right neighbour. At the end of the table the writer $W$ writes every result he hears down on paper. The figure below shows a schematic drawing of the children at the table.\n",
    "\n",
    "\n",
    "| Figure 8.5: The six children |\n",
    "- \n",
    "<img src=\"figures/8-5.png\" width=75%>\n",
    "<a id='fig:8-5'></a>\n",
    "\n",
    "a. Finish the specification for the reading child $R$, that reads the numbers 0 till 9 one by one."
   ]
  },
  {
   "cell_type": "code",
   "execution_count": null,
   "metadata": {},
   "outputs": [],
   "source": [
    "@process\n",
    "def R(env, ...):\n",
    "    i = 0\n",
    "    while i < 10:\n",
    "        ..."
   ]
  },
  {
   "cell_type": "markdown",
   "metadata": {},
   "source": [
    "b. Specify the parameterized process $C_{\\textit{add}}$ that represents the children $C_1$ and $C_4$, who perform an addition."
   ]
  },
  {
   "cell_type": "code",
   "execution_count": null,
   "metadata": {},
   "outputs": [],
   "source": [
    "@process\n",
    "def C_add(env, ...):\n",
    "    while True:\n",
    "        ..."
   ]
  },
  {
   "cell_type": "markdown",
   "metadata": {},
   "source": [
    "c. Specify the parameterized process $C_{\\textit{mul}}$ that represents the children $C_2$ and $C_3$, who perform a multiplication."
   ]
  },
  {
   "cell_type": "code",
   "execution_count": null,
   "metadata": {},
   "outputs": [],
   "source": [
    "@process\n",
    "def C_mul(env, ...):\n",
    "    while True:\n",
    "        ..."
   ]
  },
  {
   "cell_type": "markdown",
   "metadata": {},
   "source": [
    "d. Specify the process $W$ representing the writing child. Print each result as output."
   ]
  },
  {
   "cell_type": "code",
   "execution_count": null,
   "metadata": {},
   "outputs": [],
   "source": [
    "@process\n",
    "def W(env, a):\n",
    "    while True:\n",
    "        ..."
   ]
  },
  {
   "cell_type": "markdown",
   "metadata": {},
   "source": [
    "e. Make a graphical representation of the model `SixChildren` that is composed of the six children."
   ]
  },
  {
   "cell_type": "markdown",
   "metadata": {},
   "source": [
    "f. Specify the model `SixChildren`. Simulate the model."
   ]
  },
  {
   "cell_type": "code",
   "execution_count": null,
   "metadata": {},
   "outputs": [],
   "source": [
    "def SixChildren():\n",
    "    env = Environment()\n",
    "    \n",
    "    ...\n",
    "\n",
    "    env.run()\n",
    "    \n",
    "SixChildren()"
   ]
  },
  {
   "cell_type": "markdown",
   "metadata": {},
   "source": [
    "## 8.7 Answers to exercises"
   ]
  },
  {
   "cell_type": "markdown",
   "metadata": {},
   "source": [
    "<details>\n",
    "    <summary>[Click for the answer to a]</summary>\n",
    "\n",
    "    Answer:\n",
    "    \n",
    "```python\n",
    "@process\n",
    "def R(env, c_out):\n",
    "    i = 0\n",
    "    while i < 10:\n",
    "        yield env.execute(c_out.send(i))\n",
    "```\n",
    "</details>\n",
    "    \n",
    "<details>\n",
    "    <summary>[Click for the answer to b]</summary>\n",
    "\n",
    "    Answer:\n",
    "    \n",
    "```python\n",
    "@process\n",
    "def C_add(env, c_in, c_out, addition):\n",
    "    while True:\n",
    "        x = yield env.execute(c_in.receive())\n",
    "        x = x + addition\n",
    "        yield env.execute(c_out.send(x))\n",
    "```\n",
    "  \n",
    "</details>\n",
    "    \n",
    "<details>\n",
    "    <summary>[Click for the answer to c]</summary>\n",
    "\n",
    "    Answer:\n",
    "    \n",
    "```python\n",
    "@process\n",
    "def C_mul(env, c_in, c_out, multiplier):\n",
    "    while True:\n",
    "        x = yield env.execute(c_in.receive())\n",
    "        x = x * multiplier\n",
    "        yield env.execute(c_out.send(x))\n",
    "```\n",
    "</details>\n",
    "    \n",
    "<details>\n",
    "    <summary>[Click for the answer to d]</summary>\n",
    "\n",
    "    Answer:\n",
    "    \n",
    "```python\n",
    "@process\n",
    "def W(env, c_in):\n",
    "    while True:\n",
    "        x = yield env.execute(c_in.receive())\n",
    "        print(x)\n",
    "```\n",
    "</details>\n",
    "\n",
    "<details>\n",
    "    <summary>[Click for the answer to e]</summary>\n",
    "\n",
    "Answer:\n",
    "\n",
    "| Figure 8.6: The six children |\n",
    "-\n",
    "<img src=\"figures/8-6.png\" width=75%>\n",
    "<a id='fig:8-6'></a>\n",
    "\n",
    "\n",
    "</details>\n",
    "\n",
    "<details>\n",
    "    <summary>[Click for the answer to f]</summary>\n",
    "\n",
    "    Answer:\n",
    "    \n",
    "```python\n",
    "def SixChildren():\n",
    "    env = Environment()\n",
    "    \n",
    "    a = Channel(env)\n",
    "    b = Channel(env)\n",
    "    c = Channel(env)\n",
    "    d = Channel(env)\n",
    "    e = Channel(env)\n",
    "    \n",
    "    reader = R(env, a)\n",
    "    C1 = C_add(env, a, b, 2)\n",
    "    C2 = C_mul(env, b, c, 3)\n",
    "    C3 = C_mul(env, c, d, 2)\n",
    "    C4 = C_add(env, d, e, 6)\n",
    "    writer = W(env, e)\n",
    "    \n",
    "    env.run()\n",
    "    \n",
    "SixChildren()\n",
    "```\n",
    "</details>\n",
    "    "
   ]
  },
  {
   "cell_type": "code",
   "execution_count": null,
   "metadata": {},
   "outputs": [],
   "source": []
  }
 ],
 "metadata": {
  "kernelspec": {
   "display_name": "Python (pychEnv)",
   "language": "python",
   "name": "pychenv"
  },
  "language_info": {
   "codemirror_mode": {
    "name": "ipython",
    "version": 3
   },
   "file_extension": ".py",
   "mimetype": "text/x-python",
   "name": "python",
   "nbconvert_exporter": "python",
   "pygments_lexer": "ipython3",
   "version": "3.7.1"
  }
 },
 "nbformat": 4,
 "nbformat_minor": 5
}